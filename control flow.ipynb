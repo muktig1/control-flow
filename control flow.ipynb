{
 "cells": [
  {
   "cell_type": "code",
   "execution_count": 1,
   "id": "71f3da7a-1d68-47ac-96ba-4170db320457",
   "metadata": {
    "tags": []
   },
   "outputs": [
    {
     "name": "stdin",
     "output_type": "stream",
     "text": [
      "Enter a number:  43\n"
     ]
    },
    {
     "name": "stdout",
     "output_type": "stream",
     "text": [
      "The given number is Positive.\n"
     ]
    }
   ],
   "source": [
    "#Basic if else statement\n",
    "#1 Python program to check if a given number is positive or negative\n",
    "\n",
    "def check_positive_negative(number):\n",
    "    if number > 0:\n",
    "        return \"Positive\"\n",
    "    elif number < 0:\n",
    "        return \"Negative\"\n",
    "    else:\n",
    "        return \"Zero\"\n",
    "\n",
    "# Example usage\n",
    "user_input = float(input(\"Enter a number: \"))  # Taking user input\n",
    "\n",
    "result = check_positive_negative(user_input)\n",
    "print(f\"The given number is {result}.\")\n"
   ]
  },
  {
   "cell_type": "code",
   "execution_count": 2,
   "id": "c36c12ad-b053-4e88-94c3-6765096d378f",
   "metadata": {
    "tags": []
   },
   "outputs": [
    {
     "name": "stdin",
     "output_type": "stream",
     "text": [
      "Enter your age:  30\n"
     ]
    },
    {
     "name": "stdout",
     "output_type": "stream",
     "text": [
      "You are eligible to vote.\n"
     ]
    }
   ],
   "source": [
    "#2# Python program to determine if a person is eligible to vote based on their age\n",
    "\n",
    "def check_voting_eligibility(age):\n",
    "    if age >= 18:\n",
    "        return \"You are eligible to vote.\"\n",
    "    else:\n",
    "        return \"You are not eligible to vote yet.\"\n",
    "\n",
    "# Example usage\n",
    "user_age = int(input(\"Enter your age: \"))  # Taking user input\n",
    "\n",
    "result = check_voting_eligibility(user_age)\n",
    "print(result)\n"
   ]
  },
  {
   "cell_type": "code",
   "execution_count": 3,
   "id": "32ede5c2-3941-480b-a735-9af8a1c488bc",
   "metadata": {
    "tags": []
   },
   "outputs": [
    {
     "name": "stdin",
     "output_type": "stream",
     "text": [
      "Enter the first number:  30\n",
      "Enter the second number:  60\n"
     ]
    },
    {
     "name": "stdout",
     "output_type": "stream",
     "text": [
      "The maximum of 30.0 and 60.0 is: 60.0\n"
     ]
    }
   ],
   "source": [
    "#3# Python program to find the maximum of two numbers using if-else statements\n",
    "\n",
    "def find_maximum(num1, num2):\n",
    "    if num1 > num2:\n",
    "        return num1\n",
    "    else:\n",
    "        return num2\n",
    "\n",
    "# Example usage\n",
    "number1 = float(input(\"Enter the first number: \"))  # Taking user input\n",
    "number2 = float(input(\"Enter the second number: \"))  # Taking user input\n",
    "\n",
    "maximum_number = find_maximum(number1, number2)\n",
    "print(f\"The maximum of {number1} and {number2} is: {maximum_number}\")\n"
   ]
  },
  {
   "cell_type": "code",
   "execution_count": 4,
   "id": "43750bfa-81f9-4dfb-92e0-e5bbc37728b5",
   "metadata": {
    "tags": []
   },
   "outputs": [
    {
     "name": "stdin",
     "output_type": "stream",
     "text": [
      "Enter a year:  2024\n"
     ]
    },
    {
     "name": "stdout",
     "output_type": "stream",
     "text": [
      "2024 is a leap year.\n"
     ]
    }
   ],
   "source": [
    "#4 # Python script to classify a given year as a leap year or not\n",
    "\n",
    "def is_leap_year(year):\n",
    "    if (year % 4 == 0 and year % 100 != 0) or (year % 400 == 0):\n",
    "        return True\n",
    "    else:\n",
    "        return False\n",
    "\n",
    "# Example usage\n",
    "user_year = int(input(\"Enter a year: \"))  # Taking user input\n",
    "\n",
    "if is_leap_year(user_year):\n",
    "    print(f\"{user_year} is a leap year.\")\n",
    "else:\n",
    "    print(f\"{user_year} is not a leap year.\")\n"
   ]
  },
  {
   "cell_type": "code",
   "execution_count": 5,
   "id": "238886a4-0e3e-4e89-b861-a702c2f0003f",
   "metadata": {
    "tags": []
   },
   "outputs": [
    {
     "name": "stdin",
     "output_type": "stream",
     "text": [
      "Enter a character:  love\n"
     ]
    },
    {
     "name": "stdout",
     "output_type": "stream",
     "text": [
      "The character 'love' is a Consonant.\n"
     ]
    }
   ],
   "source": [
    "#5 # Python program to check whether a character is a vowel or a consonant\n",
    "\n",
    "def check_vowel_consonant(char):\n",
    "    if char.lower() in 'aeiou':\n",
    "        return \"Vowel\"\n",
    "    elif char.isalpha():\n",
    "        return \"Consonant\"\n",
    "    else:\n",
    "        return \"Not a valid alphabet character\"\n",
    "\n",
    "# Example usage\n",
    "user_char = input(\"Enter a character: \")  # Taking user input\n",
    "\n",
    "result = check_vowel_consonant(user_char)\n",
    "print(f\"The character '{user_char}' is a {result}.\")\n"
   ]
  },
  {
   "cell_type": "code",
   "execution_count": 6,
   "id": "e3d7599d-9519-498b-9179-a227300348e1",
   "metadata": {
    "tags": []
   },
   "outputs": [
    {
     "name": "stdin",
     "output_type": "stream",
     "text": [
      "Enter a number:  56\n"
     ]
    },
    {
     "name": "stdout",
     "output_type": "stream",
     "text": [
      "The number 56 is Even.\n"
     ]
    }
   ],
   "source": [
    "#6 # Python program to determine whether a given number is even or odd\n",
    "\n",
    "def check_even_odd(number):\n",
    "    if number % 2 == 0:\n",
    "        return \"Even\"\n",
    "    else:\n",
    "        return \"Odd\"\n",
    "\n",
    "# Example usage\n",
    "user_number = int(input(\"Enter a number: \"))  # Taking user input\n",
    "\n",
    "result = check_even_odd(user_number)\n",
    "print(f\"The number {user_number} is {result}.\")\n"
   ]
  },
  {
   "cell_type": "code",
   "execution_count": 10,
   "id": "f49cac2f-245c-4b36-bd19-df1132a380eb",
   "metadata": {
    "tags": []
   },
   "outputs": [
    {
     "name": "stdin",
     "output_type": "stream",
     "text": [
      "Enter a number:  30\n"
     ]
    },
    {
     "name": "stdout",
     "output_type": "stream",
     "text": [
      "The absolute value of 30.0 is: 30.0\n"
     ]
    }
   ],
   "source": [
    "#7# Python function to calculate the absolute value of a number without using the abs() function\n",
    "\n",
    "def calculate_absolute_value(number):\n",
    "    if number < 0:\n",
    "        return -number\n",
    "    else:\n",
    "        return number\n",
    "\n",
    "# Example usage\n",
    "user_number = float(input(\"Enter a number: \"))  # Taking user input\n",
    "\n",
    "absolute_value = calculate_absolute_value(user_number)\n",
    "print(f\"The absolute value of {user_number} is: {absolute_value}\")\n"
   ]
  },
  {
   "cell_type": "code",
   "execution_count": 11,
   "id": "627e9504-a0e6-4600-9248-b8e36011caac",
   "metadata": {
    "tags": []
   },
   "outputs": [
    {
     "name": "stdin",
     "output_type": "stream",
     "text": [
      "Enter the first number:  40\n",
      "Enter the second number:  60\n",
      "Enter the third number:  30\n"
     ]
    },
    {
     "name": "stdout",
     "output_type": "stream",
     "text": [
      "The largest number among 40.0, 60.0, and 30.0 is: 60.0\n"
     ]
    }
   ],
   "source": [
    "#8 # Python program to determine the largest of three given numbers using if-else statements\n",
    "\n",
    "def find_largest_number(num1, num2, num3):\n",
    "    if num1 >= num2 and num1 >= num3:\n",
    "        return num1\n",
    "    elif num2 >= num1 and num2 >= num3:\n",
    "        return num2\n",
    "    else:\n",
    "        return num3\n",
    "\n",
    "# Example usage\n",
    "number1 = float(input(\"Enter the first number: \"))  # Taking user input\n",
    "number2 = float(input(\"Enter the second number: \"))  # Taking user input\n",
    "number3 = float(input(\"Enter the third number: \"))  # Taking user input\n",
    "\n",
    "largest_number = find_largest_number(number1, number2, number3)\n",
    "print(f\"The largest number among {number1}, {number2}, and {number3} is: {largest_number}\")\n"
   ]
  },
  {
   "cell_type": "code",
   "execution_count": 12,
   "id": "01a9e9dd-0097-43ab-8e89-4010df6020a5",
   "metadata": {
    "tags": []
   },
   "outputs": [
    {
     "name": "stdin",
     "output_type": "stream",
     "text": [
      "Enter a string:  mukti\n"
     ]
    },
    {
     "name": "stdout",
     "output_type": "stream",
     "text": [
      "The string 'mukti' is not a palindrome.\n"
     ]
    }
   ],
   "source": [
    "#9 # Python program to check if a given string is a palindrome\n",
    "\n",
    "def is_palindrome(input_string):\n",
    "    cleaned_string = ''.join(char.lower() for char in input_string if char.isalnum())\n",
    "    return cleaned_string == cleaned_string[::-1]\n",
    "\n",
    "# Example usage\n",
    "user_input = input(\"Enter a string: \")  # Taking user input\n",
    "\n",
    "if is_palindrome(user_input):\n",
    "    print(f\"The string '{user_input}' is a palindrome.\")\n",
    "else:\n",
    "    print(f\"The string '{user_input}' is not a palindrome.\")\n"
   ]
  },
  {
   "cell_type": "code",
   "execution_count": 14,
   "id": "c1141afa-356d-41c9-9b64-ef3fc89bb4cf",
   "metadata": {
    "tags": []
   },
   "outputs": [
    {
     "name": "stdin",
     "output_type": "stream",
     "text": [
      "Enter the student's score:  89\n"
     ]
    },
    {
     "name": "stdout",
     "output_type": "stream",
     "text": [
      "The student's grade is: B\n"
     ]
    }
   ],
   "source": [
    "#10# Python program to calculate the grade based on a student's score\n",
    "\n",
    "def calculate_grade(score):\n",
    "    if 90 <= score <= 100:\n",
    "        return 'A'\n",
    "    elif 80 <= score < 90:\n",
    "        return 'B'\n",
    "    elif 70 <= score < 80:\n",
    "        return 'C'\n",
    "    elif 60 <= score < 70:\n",
    "        return 'D'\n",
    "    elif 0 <= score < 60:\n",
    "        return 'F'\n",
    "    else:\n",
    "        return 'Invalid score'\n",
    "\n",
    "# Example usage\n",
    "user_score = float(input(\"Enter the student's score: \"))  # Taking user input\n",
    "\n",
    "grade = calculate_grade(user_score)\n",
    "print(f\"The student's grade is: {grade}\")\n"
   ]
  },
  {
   "cell_type": "code",
   "execution_count": 15,
   "id": "d564f005-d546-4983-b6f6-ecf6f95a414f",
   "metadata": {
    "tags": []
   },
   "outputs": [
    {
     "name": "stdin",
     "output_type": "stream",
     "text": [
      "Enter the first number:  66\n",
      "Enter the second number:  87\n",
      "Enter the third number:  99\n"
     ]
    },
    {
     "name": "stdout",
     "output_type": "stream",
     "text": [
      "The largest number among 66.0, 87.0, and 99.0 is: 99.0\n"
     ]
    }
   ],
   "source": [
    "#nested if else statement\n",
    "#11Write a program to find the largest among three numbers using nested if-else statements.\n",
    "# Python program to find the largest among three numbers using nested if-else statements\n",
    "\n",
    "def find_largest_number(num1, num2, num3):\n",
    "    if num1 >= num2:\n",
    "        if num1 >= num3:\n",
    "            return num1\n",
    "        else:\n",
    "            return num3\n",
    "    else:\n",
    "        if num2 >= num3:\n",
    "            return num2\n",
    "        else:\n",
    "            return num3\n",
    "\n",
    "# Example usage\n",
    "number1 = float(input(\"Enter the first number: \"))  # Taking user input\n",
    "number2 = float(input(\"Enter the second number: \"))  # Taking user input\n",
    "number3 = float(input(\"Enter the third number: \"))  # Taking user input\n",
    "\n",
    "largest_number = find_largest_number(number1, number2, number3)\n",
    "print(f\"The largest number among {number1}, {number2}, and {number3} is: {largest_number}\")\n"
   ]
  },
  {
   "cell_type": "code",
   "execution_count": 16,
   "id": "e69af20a-9539-4ac6-b28a-bfe210a991e7",
   "metadata": {
    "tags": []
   },
   "outputs": [
    {
     "name": "stdin",
     "output_type": "stream",
     "text": [
      "Enter the length of the first side:  22\n",
      "Enter the length of the second side:  44\n",
      "Enter the length of the third side:  33\n"
     ]
    },
    {
     "name": "stdout",
     "output_type": "stream",
     "text": [
      "The triangle with sides 22.0, 44.0, and 33.0 is: Scalene\n"
     ]
    }
   ],
   "source": [
    "#12# Python program to determine if a triangle is equilateral, isosceles, or scalene\n",
    "\n",
    "def check_triangle_type(side1, side2, side3):\n",
    "    if side1 == side2 == side3:\n",
    "        return \"Equilateral\"\n",
    "    elif side1 == side2 or side1 == side3 or side2 == side3:\n",
    "        return \"Isosceles\"\n",
    "    else:\n",
    "        return \"Scalene\"\n",
    "\n",
    "# Example usage\n",
    "side1 = float(input(\"Enter the length of the first side: \"))  # Taking user input\n",
    "side2 = float(input(\"Enter the length of the second side: \"))  # Taking user input\n",
    "side3 = float(input(\"Enter the length of the third side: \"))  # Taking user input\n",
    "\n",
    "triangle_type = check_triangle_type(side1, side2, side3)\n",
    "print(f\"The triangle with sides {side1}, {side2}, and {side3} is: {triangle_type}\")\n"
   ]
  },
  {
   "cell_type": "code",
   "execution_count": 17,
   "id": "50d2eb6f-5988-4627-aaf2-1e3c6062edd8",
   "metadata": {
    "tags": []
   },
   "outputs": [
    {
     "name": "stdin",
     "output_type": "stream",
     "text": [
      "Enter a year:  2024\n"
     ]
    },
    {
     "name": "stdout",
     "output_type": "stream",
     "text": [
      "2024 is a leap year.\n",
      "2024 is not a century year.\n"
     ]
    }
   ],
   "source": [
    "#13 # Python program to check if a year is a leap year and also if it is a century year\n",
    "\n",
    "def is_leap_year(year):\n",
    "    if (year % 4 == 0 and year % 100 != 0) or (year % 400 == 0):\n",
    "        return True\n",
    "    else:\n",
    "        return False\n",
    "\n",
    "def is_century_year(year):\n",
    "    if year % 100 == 0:\n",
    "        return True\n",
    "    else:\n",
    "        return False\n",
    "\n",
    "# Example usage\n",
    "user_year = int(input(\"Enter a year: \"))  # Taking user input\n",
    "\n",
    "if is_leap_year(user_year):\n",
    "    print(f\"{user_year} is a leap year.\")\n",
    "else:\n",
    "    print(f\"{user_year} is not a leap year.\")\n",
    "\n",
    "if is_century_year(user_year):\n",
    "    print(f\"{user_year} is a century year.\")\n",
    "else:\n",
    "    print(f\"{user_year} is not a century year.\")\n"
   ]
  },
  {
   "cell_type": "code",
   "execution_count": 18,
   "id": "56d82831-173d-4ba7-a377-ae0e4494faa6",
   "metadata": {
    "tags": []
   },
   "outputs": [
    {
     "name": "stdin",
     "output_type": "stream",
     "text": [
      "Enter a number:  0\n"
     ]
    },
    {
     "name": "stdout",
     "output_type": "stream",
     "text": [
      "The number 0.0 is Zero.\n"
     ]
    }
   ],
   "source": [
    "#14# Python script to determine if a number is positive, negative, or zero\n",
    "\n",
    "def check_positive_negative_zero(number):\n",
    "    if number > 0:\n",
    "        return \"Positive\"\n",
    "    elif number < 0:\n",
    "        return \"Negative\"\n",
    "    else:\n",
    "        return \"Zero\"\n",
    "\n",
    "# Example usage\n",
    "user_number = float(input(\"Enter a number: \"))  # Taking user input\n",
    "\n",
    "result = check_positive_negative_zero(user_number)\n",
    "print(f\"The number {user_number} is {result}.\")\n",
    " "
   ]
  },
  {
   "cell_type": "code",
   "execution_count": 19,
   "id": "2716bc67-85d6-4f49-94e9-6f5069716f6c",
   "metadata": {
    "tags": []
   },
   "outputs": [
    {
     "name": "stdin",
     "output_type": "stream",
     "text": [
      "Enter your age:  18\n"
     ]
    },
    {
     "name": "stdout",
     "output_type": "stream",
     "text": [
      "You are a teenager.\n"
     ]
    }
   ],
   "source": [
    "#15 # Python program to check if a person is a teenager (between 13 and 19 years old)\n",
    "\n",
    "def is_teenager(age):\n",
    "    if 13 <= age <= 19:\n",
    "        return True\n",
    "    else:\n",
    "        return False\n",
    "\n",
    "# Example usage\n",
    "user_age = int(input(\"Enter your age: \"))  # Taking user input\n",
    "\n",
    "if is_teenager(user_age):\n",
    "    print(\"You are a teenager.\")\n",
    "else:\n",
    "    print(\"You are not a teenager.\")\n"
   ]
  },
  {
   "cell_type": "code",
   "execution_count": 21,
   "id": "e8fc85c1-b914-4153-a0b8-e13dd47afba6",
   "metadata": {
    "tags": []
   },
   "outputs": [
    {
     "name": "stdin",
     "output_type": "stream",
     "text": [
      "Enter the measure of the angle in degrees:  30\n"
     ]
    },
    {
     "name": "stdout",
     "output_type": "stream",
     "text": [
      "The angle with measure 30.0 degrees is a Acute Angle.\n"
     ]
    }
   ],
   "source": [
    "#16 # Python program to determine the type of angle based on its measure\n",
    "\n",
    "def classify_angle(measure):\n",
    "    if measure < 90:\n",
    "        return \"Acute Angle\"\n",
    "    elif measure == 90:\n",
    "        return \"Right Angle\"\n",
    "    elif measure > 90 and measure < 180:\n",
    "        return \"Obtuse Angle\"\n",
    "    elif measure == 180:\n",
    "        return \"Straight Angle\"\n",
    "    else:\n",
    "        return \"Invalid Angle Measure\"\n",
    "\n",
    "# Example usage\n",
    "angle_measure = float(input(\"Enter the measure of the angle in degrees: \"))  # Taking user input\n",
    "\n",
    "angle_type = classify_angle(angle_measure)\n",
    "print(f\"The angle with measure {angle_measure} degrees is a {angle_type}.\")\n"
   ]
  },
  {
   "cell_type": "code",
   "execution_count": 23,
   "id": "431bf8ee-20b9-48b9-b315-a072f88d6782",
   "metadata": {
    "tags": []
   },
   "outputs": [
    {
     "name": "stdin",
     "output_type": "stream",
     "text": [
      "Enter the coefficient a:  1\n",
      "Enter the coefficient b:  2\n",
      "Enter the coefficient c:  3\n"
     ]
    },
    {
     "name": "stdout",
     "output_type": "stream",
     "text": [
      "The roots of the quadratic equation are: ((-1+1.4142135623730951j), (-1-1.4142135623730951j))\n"
     ]
    }
   ],
   "source": [
    "#17# Python program to calculate the roots of a quadratic equation\n",
    "\n",
    "import cmath  # Importing the complex math module\n",
    "\n",
    "def calculate_roots(a, b, c):\n",
    "    # Calculate the discriminant\n",
    "    discriminant = cmath.sqrt(b**2 - 4*a*c)\n",
    "\n",
    "    # Calculate the roots using the quadratic formula\n",
    "    root1 = (-b + discriminant) / (2*a)\n",
    "    root2 = (-b - discriminant) / (2*a)\n",
    "\n",
    "    return root1, root2\n",
    "\n",
    "# Example usage\n",
    "coeff_a = float(input(\"Enter the coefficient a: \"))  # Taking user input\n",
    "coeff_b = float(input(\"Enter the coefficient b: \"))  # Taking user input\n",
    "coeff_c = float(input(\"Enter the coefficient c: \"))  # Taking user input\n",
    "\n",
    "roots = calculate_roots(coeff_a, coeff_b, coeff_c)\n",
    "print(f\"The roots of the quadratic equation are: {roots}\")\n"
   ]
  },
  {
   "cell_type": "code",
   "execution_count": 24,
   "id": "c335fe11-8f88-4bc5-afe7-aa615c13124a",
   "metadata": {
    "tags": []
   },
   "outputs": [
    {
     "name": "stdin",
     "output_type": "stream",
     "text": [
      "Enter a number (1 for Monday, 2 for Tuesday, etc.):  4\n"
     ]
    },
    {
     "name": "stdout",
     "output_type": "stream",
     "text": [
      "The day of the week corresponding to the number 4 is: Thursday\n"
     ]
    }
   ],
   "source": [
    "#18# Python program to determine the day of the week based on a user-provided number\n",
    "\n",
    "def determine_day_of_week(number):\n",
    "    days_of_week = [\"Monday\", \"Tuesday\", \"Wednesday\", \"Thursday\", \"Friday\", \"Saturday\", \"Sunday\"]\n",
    "    \n",
    "    if 1 <= number <= 7:\n",
    "        return days_of_week[number - 1]\n",
    "    else:\n",
    "        return \"Invalid day number\"\n",
    "\n",
    "# Example usage\n",
    "day_number = int(input(\"Enter a number (1 for Monday, 2 for Tuesday, etc.): \"))  # Taking user input\n",
    "\n",
    "day_of_week = determine_day_of_week(day_number)\n",
    "print(f\"The day of the week corresponding to the number {day_number} is: {day_of_week}\")\n"
   ]
  },
  {
   "cell_type": "code",
   "execution_count": 25,
   "id": "8c07f0ab-ba36-4eb9-a870-10ea7494ff9f",
   "metadata": {
    "tags": []
   },
   "outputs": [
    {
     "name": "stdin",
     "output_type": "stream",
     "text": [
      "Enter a year:  2008\n"
     ]
    },
    {
     "name": "stdout",
     "output_type": "stream",
     "text": [
      "2008 is a leap year.\n",
      "2008 is not evenly divisible by 400.\n"
     ]
    }
   ],
   "source": [
    "#19 # Python program to determine if a year is a leap year and also if it is evenly divisible by 400\n",
    "\n",
    "def is_leap_year(year):\n",
    "    if (year % 4 == 0 and year % 100 != 0) or (year % 400 == 0):\n",
    "        return True\n",
    "    else:\n",
    "        return False\n",
    "\n",
    "# Example usage\n",
    "user_year = int(input(\"Enter a year: \"))  # Taking user input\n",
    "\n",
    "if is_leap_year(user_year):\n",
    "    print(f\"{user_year} is a leap year.\")\n",
    "    if user_year % 400 == 0:\n",
    "        print(f\"{user_year} is also evenly divisible by 400.\")\n",
    "    else:\n",
    "        print(f\"{user_year} is not evenly divisible by 400.\")\n",
    "else:\n",
    "    print(f\"{user_year} is not a leap year.\")\n"
   ]
  },
  {
   "cell_type": "code",
   "execution_count": 26,
   "id": "de6321f7-fc23-4df8-a06c-93dc365ca985",
   "metadata": {
    "tags": []
   },
   "outputs": [
    {
     "name": "stdin",
     "output_type": "stream",
     "text": [
      "Enter a number:  2\n"
     ]
    },
    {
     "name": "stdout",
     "output_type": "stream",
     "text": [
      "2 is a prime number.\n"
     ]
    }
   ],
   "source": [
    "#20# Python program to check if a given number is prime or not using nested if-else statements\n",
    "\n",
    "def is_prime(number):\n",
    "    if number > 1:\n",
    "        for i in range(2, int(number**0.5) + 1):\n",
    "            if number % i == 0:\n",
    "                return False\n",
    "        else:\n",
    "            return True\n",
    "    else:\n",
    "        return False\n",
    "\n",
    "# Example usage\n",
    "user_number = int(input(\"Enter a number: \"))  # Taking user input\n",
    "\n",
    "if is_prime(user_number):\n",
    "    print(f\"{user_number} is a prime number.\")\n",
    "else:\n",
    "    print(f\"{user_number} is not a prime number.\")\n"
   ]
  },
  {
   "cell_type": "code",
   "execution_count": 27,
   "id": "399bb499-766c-49b7-ab3b-24cfcb2862de",
   "metadata": {
    "tags": []
   },
   "outputs": [
    {
     "name": "stdin",
     "output_type": "stream",
     "text": [
      "Enter the student's score:  90\n"
     ]
    },
    {
     "name": "stdout",
     "output_type": "stream",
     "text": [
      "The student's grade is: A\n"
     ]
    }
   ],
   "source": [
    "#21 Python program to assign grades based on different ranges of scores using elif statements\n",
    "\n",
    "def assign_grade(score):\n",
    "    if 90 <= score <= 100:\n",
    "        return 'A'\n",
    "    elif 80 <= score < 90:\n",
    "        return 'B'\n",
    "    elif 70 <= score < 80:\n",
    "        return 'C'\n",
    "    elif 60 <= score < 70:\n",
    "        return 'D'\n",
    "    elif 0 <= score < 60:\n",
    "        return 'F'\n",
    "    else:\n",
    "        return 'Invalid score'\n",
    "\n",
    "# Example usage\n",
    "user_score = float(input(\"Enter the student's score: \"))  # Taking user input\n",
    "\n",
    "grade = assign_grade(user_score)\n",
    "print(f\"The student's grade is: {grade}\")\n"
   ]
  },
  {
   "cell_type": "code",
   "execution_count": 30,
   "id": "ec5f1b09-f566-4893-9e23-96e50baba329",
   "metadata": {
    "tags": []
   },
   "outputs": [
    {
     "name": "stdin",
     "output_type": "stream",
     "text": [
      "Enter the first angle of the triangle:  60\n",
      "Enter the second angle of the triangle:  60\n",
      "Enter the third angle of the triangle:  60\n"
     ]
    },
    {
     "name": "stdout",
     "output_type": "stream",
     "text": [
      "The triangle with angles 60.0, 60.0, and 60.0 is a Equilateral Triangle.\n"
     ]
    }
   ],
   "source": [
    "#22 Python program to determine the type of a triangle based on its angles\n",
    "\n",
    "def classify_triangle_type(angle1, angle2, angle3):\n",
    "    if angle1 + angle2 + angle3 == 180:\n",
    "        if angle1 == angle2 == angle3:\n",
    "            return \"Equilateral Triangle\"\n",
    "        elif angle1 == angle2 or angle1 == angle3 or angle2 == angle3:\n",
    "            return \"Isosceles Triangle\"\n",
    "        else:\n",
    "            return \"Scalene Triangle\"\n",
    "    else:\n",
    "        return \"Invalid Triangle\"\n",
    "\n",
    "# Example usage\n",
    "angle1 = float(input(\"Enter the first angle of the triangle: \"))  # Taking user input\n",
    "angle2 = float(input(\"Enter the second angle of the triangle: \"))  # Taking user input\n",
    "angle3 = float(input(\"Enter the third angle of the triangle: \"))  # Taking user input\n",
    "\n",
    "triangle_type = classify_triangle_type(angle1, angle2, angle3)\n",
    "print(f\"The triangle with angles {angle1}, {angle2}, and {angle3} is a {triangle_type}.\")\n"
   ]
  },
  {
   "cell_type": "code",
   "execution_count": 31,
   "id": "ae0ad7c5-0273-403c-abe8-7a54e4da2270",
   "metadata": {
    "tags": []
   },
   "outputs": [
    {
     "name": "stdin",
     "output_type": "stream",
     "text": [
      "Enter the person's weight in kilograms:  80\n",
      "Enter the person's height in meters:  167\n"
     ]
    },
    {
     "name": "stdout",
     "output_type": "stream",
     "text": [
      "The person's BMI is: 0.00\n",
      "The person's BMI category is: Underweight\n"
     ]
    }
   ],
   "source": [
    "#23 # Python program to categorize a person's BMI into underweight, normal, overweight, or obese using elif statements\n",
    "\n",
    "def classify_bmi(bmi):\n",
    "    if bmi < 18.5:\n",
    "        return \"Underweight\"\n",
    "    elif 18.5 <= bmi < 24.9:\n",
    "        return \"Normal Weight\"\n",
    "    elif 25 <= bmi < 29.9:\n",
    "        return \"Overweight\"\n",
    "    elif bmi >= 30:\n",
    "        return \"Obese\"\n",
    "    else:\n",
    "        return \"Invalid BMI\"\n",
    "\n",
    "# Example usage\n",
    "user_weight = float(input(\"Enter the person's weight in kilograms: \"))  # Taking user input\n",
    "user_height = float(input(\"Enter the person's height in meters: \"))  # Taking user input\n",
    "\n",
    "user_bmi = user_weight / (user_height ** 2)  # Calculating BMI\n",
    "print(f\"The person's BMI is: {user_bmi:.2f}\")\n",
    "\n",
    "bmi_category = classify_bmi(user_bmi)\n",
    "print(f\"The person's BMI category is: {bmi_category}\")\n"
   ]
  },
  {
   "cell_type": "code",
   "execution_count": 32,
   "id": "87baae0a-de1e-4848-9b85-161a6d627fb8",
   "metadata": {
    "tags": []
   },
   "outputs": [
    {
     "name": "stdin",
     "output_type": "stream",
     "text": [
      "Enter a number:  30\n"
     ]
    },
    {
     "name": "stdout",
     "output_type": "stream",
     "text": [
      "The number 30.0 is Positive.\n"
     ]
    }
   ],
   "source": [
    "#24# Python program to determine whether a given number is positive, negative, or zero using elif statements\n",
    "\n",
    "def check_positive_negative_zero(number):\n",
    "    if number > 0:\n",
    "        return \"Positive\"\n",
    "    elif number < 0:\n",
    "        return \"Negative\"\n",
    "    else:\n",
    "        return \"Zero\"\n",
    "\n",
    "# Example usage\n",
    "user_number = float(input(\"Enter a number: \"))  # Taking user input\n",
    "\n",
    "result = check_positive_negative_zero(user_number)\n",
    "print(f\"The number {user_number} is {result}.\")\n"
   ]
  },
  {
   "cell_type": "code",
   "execution_count": 33,
   "id": "97727703-913e-4d00-bdc9-047fc58f961d",
   "metadata": {
    "tags": []
   },
   "outputs": [
    {
     "name": "stdin",
     "output_type": "stream",
     "text": [
      "Enter a character:  mukti\n"
     ]
    },
    {
     "name": "stdout",
     "output_type": "stream",
     "text": [
      "The character 'mukti' is a Lowercase.\n"
     ]
    }
   ],
   "source": [
    "#25# Python script to determine the type of a character (uppercase, lowercase, or special) using elif statements\n",
    "\n",
    "def classify_character_type(char):\n",
    "    if char.isupper():\n",
    "        return \"Uppercase\"\n",
    "    elif char.islower():\n",
    "        return \"Lowercase\"\n",
    "    else:\n",
    "        return \"Special Character\"\n",
    "\n",
    "# Example usage\n",
    "user_char = input(\"Enter a character: \")  # Taking user input\n",
    "\n",
    "char_type = classify_character_type(user_char)\n",
    "print(f\"The character '{user_char}' is a {char_type}.\")\n"
   ]
  },
  {
   "cell_type": "code",
   "execution_count": 34,
   "id": "04cde3d5-4dff-47b3-a95c-7a9381dcb4ce",
   "metadata": {
    "tags": []
   },
   "outputs": [
    {
     "name": "stdin",
     "output_type": "stream",
     "text": [
      "Enter the purchase amount:  3000\n"
     ]
    },
    {
     "name": "stdout",
     "output_type": "stream",
     "text": [
      "The discounted price for a purchase amount of $3000.00 is: $2400.00\n"
     ]
    }
   ],
   "source": [
    "#26# Python program to calculate the discounted price based on different purchase amounts using elif statements\n",
    "\n",
    "def calculate_discounted_price(purchase_amount):\n",
    "    if purchase_amount < 100:\n",
    "        discount_percent = 0\n",
    "    elif 100 <= purchase_amount < 500:\n",
    "        discount_percent = 10\n",
    "    elif 500 <= purchase_amount < 1000:\n",
    "        discount_percent = 15\n",
    "    else:\n",
    "        discount_percent = 20\n",
    "\n",
    "    discounted_price = purchase_amount - (purchase_amount * discount_percent / 100)\n",
    "    return discounted_price\n",
    "\n",
    "# Example usage\n",
    "user_purchase_amount = float(input(\"Enter the purchase amount: \"))  # Taking user input\n",
    "\n",
    "discounted_price = calculate_discounted_price(user_purchase_amount)\n",
    "print(f\"The discounted price for a purchase amount of ${user_purchase_amount:.2f} is: ${discounted_price:.2f}\")\n"
   ]
  },
  {
   "cell_type": "code",
   "execution_count": 35,
   "id": "ba0a1c52-f240-4b31-8d42-ed8222d8f34e",
   "metadata": {
    "tags": []
   },
   "outputs": [
    {
     "name": "stdin",
     "output_type": "stream",
     "text": [
      "Enter the units consumed:  200\n"
     ]
    },
    {
     "name": "stdout",
     "output_type": "stream",
     "text": [
      "The electricity bill for 200.0 units is: $1100.00\n"
     ]
    }
   ],
   "source": [
    "#27# Python program to calculate the electricity bill based on different consumption slabs using elif statements\n",
    "\n",
    "def calculate_electricity_bill(units_consumed):\n",
    "    if units_consumed <= 50:\n",
    "        rate_per_unit = 2.50\n",
    "    elif 51 <= units_consumed <= 100:\n",
    "        rate_per_unit = 4.00\n",
    "    elif 101 <= units_consumed <= 200:\n",
    "        rate_per_unit = 5.50\n",
    "    elif 201 <= units_consumed <= 300:\n",
    "        rate_per_unit = 7.00\n",
    "    else:\n",
    "        rate_per_unit = 8.50\n",
    "\n",
    "    total_bill = units_consumed * rate_per_unit\n",
    "    return total_bill\n",
    "\n",
    "# Example usage\n",
    "user_units_consumed = float(input(\"Enter the units consumed: \"))  # Taking user input\n",
    "\n",
    "electricity_bill = calculate_electricity_bill(user_units_consumed)\n",
    "print(f\"The electricity bill for {user_units_consumed} units is: ${electricity_bill:.2f}\")\n"
   ]
  },
  {
   "cell_type": "code",
   "execution_count": 36,
   "id": "d929b6ca-04f5-4129-849a-dfda7a9b51ac",
   "metadata": {
    "tags": []
   },
   "outputs": [
    {
     "name": "stdin",
     "output_type": "stream",
     "text": [
      "Enter the length of side 1:  90\n",
      "Enter the length of side 2:  90\n",
      "Enter the length of side 3:  60\n",
      "Enter the length of side 4:  60\n",
      "Enter the measure of angle 1:  90\n",
      "Enter the measure of angle 2:  90\n",
      "Enter the measure of angle 3:  60\n",
      "Enter the measure of angle 4:  60\n"
     ]
    },
    {
     "name": "stdout",
     "output_type": "stream",
     "text": [
      "The quadrilateral is a General Quadrilateral.\n"
     ]
    }
   ],
   "source": [
    "#28# Python program to determine the type of quadrilateral based on its angles and sides using elif statements\n",
    "\n",
    "def classify_quadrilateral(sides, angles):\n",
    "    if all(angle == 90 for angle in angles) and len(set(sides)) == 1:\n",
    "        return \"Square\"\n",
    "    elif all(angle == 90 for angle in angles):\n",
    "        return \"Rectangle\"\n",
    "    elif len(set(sides)) == 1 and len(set(angles)) == 1:\n",
    "        return \"Rhombus\"\n",
    "    elif len(set(sides)) == 2 and all(angle == 90 for angle in angles):\n",
    "        return \"Parallelogram\"\n",
    "    else:\n",
    "        return \"General Quadrilateral\"\n",
    "\n",
    "# Example usage\n",
    "side_lengths = [float(input(f\"Enter the length of side {i+1}: \")) for i in range(4)]  # Taking user input for side lengths\n",
    "angles = [float(input(f\"Enter the measure of angle {i+1}: \")) for i in range(4)]  # Taking user input for angle measures\n",
    "\n",
    "quadrilateral_type = classify_quadrilateral(side_lengths, angles)\n",
    "print(f\"The quadrilateral is a {quadrilateral_type}.\")\n"
   ]
  },
  {
   "cell_type": "code",
   "execution_count": 37,
   "id": "c1f5f98e-ed3e-4a42-b73c-27cf572a880b",
   "metadata": {
    "tags": []
   },
   "outputs": [
    {
     "name": "stdin",
     "output_type": "stream",
     "text": [
      "Enter a month (1-12):  6\n"
     ]
    },
    {
     "name": "stdout",
     "output_type": "stream",
     "text": [
      "The season for the month 6 is: Summer\n"
     ]
    }
   ],
   "source": [
    "#29# Python script to determine the season based on a user-provided month using elif statements\n",
    "\n",
    "def determine_season(month):\n",
    "    if 3 <= month <= 5:\n",
    "        return \"Spring\"\n",
    "    elif 6 <= month <= 8:\n",
    "        return \"Summer\"\n",
    "    elif 9 <= month <= 11:\n",
    "        return \"Autumn\"\n",
    "    elif month == 12 or (1 <= month <= 2):\n",
    "        return \"Winter\"\n",
    "    else:\n",
    "        return \"Invalid Month\"\n",
    "\n",
    "# Example usage\n",
    "user_month = int(input(\"Enter a month (1-12): \"))  # Taking user input\n",
    "\n",
    "season = determine_season(user_month)\n",
    "print(f\"The season for the month {user_month} is: {season}\")\n",
    "\n"
   ]
  },
  {
   "cell_type": "code",
   "execution_count": 38,
   "id": "b6f3dc7a-7a54-4d3e-a645-901feafb8a79",
   "metadata": {
    "tags": []
   },
   "outputs": [
    {
     "name": "stdin",
     "output_type": "stream",
     "text": [
      "Enter a year:  2008\n",
      "Enter a month (1-12):  5\n"
     ]
    },
    {
     "name": "stdout",
     "output_type": "stream",
     "text": [
      "The year 2008 is a Leap Year.\n",
      "The month 5 has 31 days.\n"
     ]
    }
   ],
   "source": [
    "#30# Python program to determine the type of a year (leap or common) and month (30 or 31 days) using elif statements\n",
    "\n",
    "def determine_year_type(year):\n",
    "    if (year % 4 == 0 and year % 100 != 0) or (year % 400 == 0):\n",
    "        return \"Leap Year\"\n",
    "    else:\n",
    "        return \"Common Year\"\n",
    "\n",
    "def determine_month_days(month):\n",
    "    if month in {1, 3, 5, 7, 8, 10, 12}:\n",
    "        return 31\n",
    "    elif month in {4, 6, 9, 11}:\n",
    "        return 30\n",
    "    elif month == 2:\n",
    "        return \"28 or 29\"  # February has 28 days in common years and 29 days in leap years\n",
    "    else:\n",
    "        return \"Invalid Month\"\n",
    "\n",
    "# Example usage\n",
    "user_year = int(input(\"Enter a year: \"))  # Taking user input\n",
    "user_month = int(input(\"Enter a month (1-12): \"))  # Taking user input\n",
    "\n",
    "year_type = determine_year_type(user_year)\n",
    "print(f\"The year {user_year} is a {year_type}.\")\n",
    "\n",
    "month_days = determine_month_days(user_month)\n",
    "print(f\"The month {user_month} has {month_days} days.\")\n"
   ]
  },
  {
   "cell_type": "code",
   "execution_count": 39,
   "id": "1a33c3ca-1456-4610-813b-76ade1702e2c",
   "metadata": {
    "tags": []
   },
   "outputs": [
    {
     "name": "stdin",
     "output_type": "stream",
     "text": [
      "Enter a number:  30\n"
     ]
    },
    {
     "name": "stdout",
     "output_type": "stream",
     "text": [
      "The number 30.0 is Positive.\n"
     ]
    }
   ],
   "source": [
    "#basic level\n",
    "#1# Python program to check if a given number is positive, negative, or zero\n",
    "\n",
    "def check_number(num):\n",
    "    if num > 0:\n",
    "        return \"Positive\"\n",
    "    elif num < 0:\n",
    "        return \"Negative\"\n",
    "    else:\n",
    "        return \"Zero\"\n",
    "\n",
    "# Example usage\n",
    "user_number = float(input(\"Enter a number: \"))  # Taking user input\n",
    "\n",
    "result = check_number(user_number)\n",
    "print(f\"The number {user_number} is {result}.\")\n"
   ]
  },
  {
   "cell_type": "code",
   "execution_count": 40,
   "id": "c92a7820-15d7-40c2-a9a9-997d74c76a88",
   "metadata": {
    "tags": []
   },
   "outputs": [
    {
     "name": "stdin",
     "output_type": "stream",
     "text": [
      "Enter your age:  18\n"
     ]
    },
    {
     "name": "stdout",
     "output_type": "stream",
     "text": [
      "At the age of 18, you are Eligible to vote.\n"
     ]
    }
   ],
   "source": [
    "#2# Python program to determine if a person is eligible to vote based on their age\n",
    "\n",
    "def check_voting_eligibility(age):\n",
    "    if age >= 18:\n",
    "        return \"Eligible to vote\"\n",
    "    else:\n",
    "        return \"Not eligible to vote\"\n",
    "\n",
    "# Example usage\n",
    "user_age = int(input(\"Enter your age: \"))  # Taking user input\n",
    "\n",
    "result = check_voting_eligibility(user_age)\n",
    "print(f\"At the age of {user_age}, you are {result}.\")\n"
   ]
  },
  {
   "cell_type": "code",
   "execution_count": 41,
   "id": "29f49f5b-036d-4669-99a2-e5536954b389",
   "metadata": {
    "tags": []
   },
   "outputs": [
    {
     "name": "stdin",
     "output_type": "stream",
     "text": [
      "Enter the first number:  50\n",
      "Enter the second number:  30\n"
     ]
    },
    {
     "name": "stdout",
     "output_type": "stream",
     "text": [
      "The maximum of 50.0 and 30.0 is: 50.0\n"
     ]
    }
   ],
   "source": [
    "#3# Python program to find the maximum of two given numbers using conditional statements\n",
    "\n",
    "def find_maximum(num1, num2):\n",
    "    if num1 > num2:\n",
    "        return num1\n",
    "    else:\n",
    "        return num2\n",
    "\n",
    "# Example usage\n",
    "number1 = float(input(\"Enter the first number: \"))  # Taking user input\n",
    "number2 = float(input(\"Enter the second number: \"))  # Taking user input\n",
    "\n",
    "maximum_number = find_maximum(number1, number2)\n",
    "print(f\"The maximum of {number1} and {number2} is: {maximum_number}\")\n"
   ]
  },
  {
   "cell_type": "code",
   "execution_count": 42,
   "id": "876abd3c-2b2d-49c2-b1a7-948bdae4d508",
   "metadata": {
    "tags": []
   },
   "outputs": [
    {
     "name": "stdin",
     "output_type": "stream",
     "text": [
      "Enter the student's exam score:  90\n"
     ]
    },
    {
     "name": "stdout",
     "output_type": "stream",
     "text": [
      "The student's grade is: A\n"
     ]
    }
   ],
   "source": [
    "#4# Python program to calculate the grade of a student based on their exam score\n",
    "\n",
    "def calculate_grade(score):\n",
    "    if 90 <= score <= 100:\n",
    "        return 'A'\n",
    "    elif 80 <= score < 90:\n",
    "        return 'B'\n",
    "    elif 70 <= score < 80:\n",
    "        return 'C'\n",
    "    elif 60 <= score < 70:\n",
    "        return 'D'\n",
    "    elif 0 <= score < 60:\n",
    "        return 'F'\n",
    "    else:\n",
    "        return 'Invalid Score'\n",
    "\n",
    "# Example usage\n",
    "exam_score = float(input(\"Enter the student's exam score: \"))  # Taking user input\n",
    "\n",
    "grade = calculate_grade(exam_score)\n",
    "print(f\"The student's grade is: {grade}\")\n"
   ]
  },
  {
   "cell_type": "code",
   "execution_count": 43,
   "id": "e2fb1507-36e9-4f0e-8124-41dc346f2353",
   "metadata": {
    "tags": []
   },
   "outputs": [
    {
     "name": "stdin",
     "output_type": "stream",
     "text": [
      "Enter a year:  2024\n"
     ]
    },
    {
     "name": "stdout",
     "output_type": "stream",
     "text": [
      "2024 is a leap year.\n"
     ]
    }
   ],
   "source": [
    "#5# Python program to check if a year is a leap year or not\n",
    "\n",
    "def is_leap_year(year):\n",
    "    if (year % 4 == 0 and year % 100 != 0) or (year % 400 == 0):\n",
    "        return True\n",
    "    else:\n",
    "        return False\n",
    "\n",
    "# Example usage\n",
    "user_year = int(input(\"Enter a year: \"))  # Taking user input\n",
    "\n",
    "if is_leap_year(user_year):\n",
    "    print(f\"{user_year} is a leap year.\")\n",
    "else:\n",
    "    print(f\"{user_year} is not a leap year.\")\n"
   ]
  },
  {
   "cell_type": "code",
   "execution_count": 1,
   "id": "cc5d1a06-b50a-4cc9-a65a-8b44a77c84d5",
   "metadata": {},
   "outputs": [
    {
     "name": "stdin",
     "output_type": "stream",
     "text": [
      "Enter the length of side 1:  20\n",
      "Enter the length of side 2:  20\n",
      "Enter the length of side 3:  20\n"
     ]
    },
    {
     "name": "stdout",
     "output_type": "stream",
     "text": [
      "The triangle with side lengths 20.0, 20.0, and 20.0 is a Equilateral Triangle.\n"
     ]
    }
   ],
   "source": [
    "#6# Python program to classify a triangle based on its sides' lengths\n",
    "\n",
    "def classify_triangle(side1, side2, side3):\n",
    "    if side1 == side2 == side3:\n",
    "        return \"Equilateral Triangle\"\n",
    "    elif side1 == side2 or side1 == side3 or side2 == side3:\n",
    "        return \"Isosceles Triangle\"\n",
    "    else:\n",
    "        return \"Scalene Triangle\"\n",
    "\n",
    "# Example usage\n",
    "side_length1 = float(input(\"Enter the length of side 1: \"))  # Taking user input\n",
    "side_length2 = float(input(\"Enter the length of side 2: \"))  # Taking user input\n",
    "side_length3 = float(input(\"Enter the length of side 3: \"))  # Taking user input\n",
    "\n",
    "triangle_type = classify_triangle(side_length1, side_length2, side_length3)\n",
    "print(f\"The triangle with side lengths {side_length1}, {side_length2}, and {side_length3} is a {triangle_type}.\")\n"
   ]
  },
  {
   "cell_type": "code",
   "execution_count": 1,
   "id": "5cbecb1a-f6f6-4e12-90d2-8db1f243299f",
   "metadata": {
    "tags": []
   },
   "outputs": [
    {
     "name": "stdin",
     "output_type": "stream",
     "text": [
      "Enter the first number:  20\n",
      "Enter the second number:  40\n",
      "Enter the third number:  50\n"
     ]
    },
    {
     "name": "stdout",
     "output_type": "stream",
     "text": [
      "The largest of 20.0, 40.0, and 50.0 is: 50.0\n"
     ]
    }
   ],
   "source": [
    "#7# Python program to determine the largest of three given numbers\n",
    "\n",
    "def find_largest(num1, num2, num3):\n",
    "    if num1 >= num2 and num1 >= num3:\n",
    "        return num1\n",
    "    elif num2 >= num1 and num2 >= num3:\n",
    "        return num2\n",
    "    else:\n",
    "        return num3\n",
    "\n",
    "# Example usage\n",
    "number1 = float(input(\"Enter the first number: \"))  # Taking user input\n",
    "number2 = float(input(\"Enter the second number: \"))  # Taking user input\n",
    "number3 = float(input(\"Enter the third number: \"))  # Taking user input\n",
    "\n",
    "largest_number = find_largest(number1, number2, number3)\n",
    "print(f\"The largest of {number1}, {number2}, and {number3} is: {largest_number}\")\n"
   ]
  },
  {
   "cell_type": "code",
   "execution_count": 3,
   "id": "a3ffe870-1c7b-4fdb-ae84-d45eb8ed1ce7",
   "metadata": {
    "tags": []
   },
   "outputs": [
    {
     "name": "stdin",
     "output_type": "stream",
     "text": [
      "Enter a character:  i\n"
     ]
    },
    {
     "name": "stdout",
     "output_type": "stream",
     "text": [
      "The character 'i' is a Vowel.\n"
     ]
    }
   ],
   "source": [
    "#8 # Python program to check whether a character is a vowel or a consonant\n",
    "\n",
    "def check_vowel_consonant(char):\n",
    "    if char.lower() in ['a', 'e', 'i', 'o', 'u']:\n",
    "        return \"Vowel\"\n",
    "    else:\n",
    "        return \"Consonant\"\n",
    "\n",
    "# Example usage\n",
    "user_char = input(\"Enter a character: \")  # Taking user input\n",
    "\n",
    "result = check_vowel_consonant(user_char)\n",
    "print(f\"The character '{user_char}' is a {result}.\")\n"
   ]
  },
  {
   "cell_type": "code",
   "execution_count": 2,
   "id": "f2a0fe47-b4a1-4ede-8e6d-ba7df7977cda",
   "metadata": {
    "tags": []
   },
   "outputs": [
    {
     "name": "stdin",
     "output_type": "stream",
     "text": [
      "Enter the number of items:  5\n",
      "Enter the price of item 1:  20\n",
      "Enter the price of item 2:  30\n",
      "Enter the price of item 3:  10\n",
      "Enter the price of item 4:  30\n",
      "Enter the price of item 5:  50\n",
      "Enter the discount percentage:  50\n"
     ]
    },
    {
     "name": "stdout",
     "output_type": "stream",
     "text": [
      "The total cost after applying a 50.0% discount is: $70.00\n"
     ]
    }
   ],
   "source": [
    "#9# Python program to calculate the total cost of a shopping cart based on discounts\n",
    "\n",
    "def calculate_total_cost(item_prices, discount_percentage):\n",
    "    total_cost = sum(item_prices)\n",
    "    discount_amount = (discount_percentage / 100) * total_cost\n",
    "    discounted_cost = total_cost - discount_amount\n",
    "    return discounted_cost\n",
    "\n",
    "# Example usage\n",
    "item_prices = [float(input(f\"Enter the price of item {i+1}: \")) for i in range(int(input(\"Enter the number of items: \")))]  # Taking user input for item prices\n",
    "discount_percentage = float(input(\"Enter the discount percentage: \"))  # Taking user input for discount percentage\n",
    "\n",
    "total_cost = calculate_total_cost(item_prices, discount_percentage)\n",
    "print(f\"The total cost after applying a {discount_percentage}% discount is: ${total_cost:.2f}\")\n"
   ]
  },
  {
   "cell_type": "code",
   "execution_count": 4,
   "id": "130711e3-77ab-4b88-abcb-82e801b9876a",
   "metadata": {
    "tags": []
   },
   "outputs": [
    {
     "name": "stdin",
     "output_type": "stream",
     "text": [
      "Enter a number:  20\n"
     ]
    },
    {
     "name": "stdout",
     "output_type": "stream",
     "text": [
      "The number 20 is Even.\n"
     ]
    }
   ],
   "source": [
    "#10Write a program that checks if a given number is even or odd.\n",
    "def check_even_odd(number):\n",
    "    if number % 2 == 0:\n",
    "        return \"Even\"\n",
    "    else:\n",
    "        return \"Odd\"\n",
    "\n",
    "# Taking user input\n",
    "user_input = int(input(\"Enter a number: \"))\n",
    "\n",
    "# Checking if the number is even or odd\n",
    "result = check_even_odd(user_input)\n",
    "\n",
    "# Displaying the result\n",
    "print(f\"The number {user_input} is {result}.\")\n"
   ]
  },
  {
   "cell_type": "code",
   "execution_count": 6,
   "id": "2f005976-b1d5-4641-9986-5614d551138d",
   "metadata": {},
   "outputs": [
    {
     "name": "stdin",
     "output_type": "stream",
     "text": [
      "Enter the coefficient a:  2\n",
      "Enter the coefficient b:  3\n",
      "Enter the coefficient c:  4\n"
     ]
    },
    {
     "name": "stdout",
     "output_type": "stream",
     "text": [
      "The roots of the quadratic equation are: ((-0.75+1.1989578808281798j), (-0.75-1.1989578808281798j))\n"
     ]
    }
   ],
   "source": [
    "#Intermediate level\n",
    "#11 Write a program that calculates the roots of a quadratic equation\n",
    "import math\n",
    "\n",
    "def calculate_roots(a, b, c):\n",
    "    # Calculate the discriminant\n",
    "    discriminant = b**2 - 4*a*c\n",
    "\n",
    "    # Check if the discriminant is non-negative\n",
    "    if discriminant >= 0:\n",
    "        # Calculate the roots\n",
    "        root1 = (-b + math.sqrt(discriminant)) / (2*a)\n",
    "        root2 = (-b - math.sqrt(discriminant)) / (2*a)\n",
    "        return root1, root2\n",
    "    else:\n",
    "        # If the discriminant is negative, roots are complex\n",
    "        real_part = -b / (2*a)\n",
    "        imaginary_part = math.sqrt(abs(discriminant)) / (2*a)\n",
    "        root1 = complex(real_part, imaginary_part)\n",
    "        root2 = complex(real_part, -imaginary_part)\n",
    "        return root1, root2\n",
    "\n",
    "# Taking user input for coefficients\n",
    "a = float(input(\"Enter the coefficient a: \"))\n",
    "b = float(input(\"Enter the coefficient b: \"))\n",
    "c = float(input(\"Enter the coefficient c: \"))\n",
    "\n",
    "# Calculating roots\n",
    "roots = calculate_roots(a, b, c)\n",
    "\n",
    "# Displaying the roots\n",
    "print(f\"The roots of the quadratic equation are: {roots}\")\n"
   ]
  },
  {
   "cell_type": "code",
   "execution_count": 7,
   "id": "0141ca54-8092-4583-b575-67734edd0771",
   "metadata": {
    "tags": []
   },
   "outputs": [
    {
     "name": "stdin",
     "output_type": "stream",
     "text": [
      "Enter a day number (1-7):  7\n"
     ]
    },
    {
     "name": "stdout",
     "output_type": "stream",
     "text": [
      "The day corresponding to day number 7 is Sunday.\n"
     ]
    }
   ],
   "source": [
    "#12Create a program that determines the day of the week based on the day number (1-7).\n",
    "def get_day_of_week(day_number):\n",
    "    days_of_week = [\"Monday\", \"Tuesday\", \"Wednesday\", \"Thursday\", \"Friday\", \"Saturday\", \"Sunday\"]\n",
    "\n",
    "    if 1 <= day_number <= 7:\n",
    "        return days_of_week[day_number - 1]\n",
    "    else:\n",
    "        return \"Invalid day number. Please enter a number between 1 and 7.\"\n",
    "\n",
    "# Taking user input for day number\n",
    "day_number = int(input(\"Enter a day number (1-7): \"))\n",
    "\n",
    "# Getting the day of the week\n",
    "day_of_week = get_day_of_week(day_number)\n",
    "\n",
    "# Displaying the result\n",
    "print(f\"The day corresponding to day number {day_number} is {day_of_week}.\")\n",
    "\n",
    "\n"
   ]
  },
  {
   "cell_type": "code",
   "execution_count": 8,
   "id": "277c55b3-bf7f-4d2e-a7fa-3defa6398dfc",
   "metadata": {
    "tags": []
   },
   "outputs": [
    {
     "name": "stdin",
     "output_type": "stream",
     "text": [
      "Enter a number to calculate its factorial:  30\n"
     ]
    },
    {
     "name": "stdout",
     "output_type": "stream",
     "text": [
      "The factorial of 30 is 265252859812191058636308480000000.\n"
     ]
    }
   ],
   "source": [
    "#13. Develop a program that calculates the factorial of a given number using recursion.\n",
    "def factorial(n):\n",
    "    if n == 0 or n == 1:\n",
    "        return 1\n",
    "    else:\n",
    "        return n * factorial(n - 1)\n",
    "\n",
    "# Taking user input for the number\n",
    "number = int(input(\"Enter a number to calculate its factorial: \"))\n",
    "\n",
    "# Calculating factorial using recursion\n",
    "result = factorial(number)\n",
    "\n",
    "# Displaying the result\n",
    "print(f\"The factorial of {number} is {result}.\")\n"
   ]
  },
  {
   "cell_type": "code",
   "execution_count": 9,
   "id": "4e3054ea-08dc-435f-a8cc-a3a977d7777c",
   "metadata": {
    "tags": []
   },
   "outputs": [
    {
     "name": "stdin",
     "output_type": "stream",
     "text": [
      "Enter the first number:  20\n",
      "Enter the second number:  30\n",
      "Enter the third number:  49\n"
     ]
    },
    {
     "name": "stdout",
     "output_type": "stream",
     "text": [
      "The largest number among 20.0, 30.0, and 49.0 is 49.0.\n"
     ]
    }
   ],
   "source": [
    "#14\n",
    "def find_largest(num1, num2, num3):\n",
    "    if num1 >= num2 and num1 >= num3:\n",
    "        return num1\n",
    "    elif num2 >= num1 and num2 >= num3:\n",
    "        return num2\n",
    "    else:\n",
    "        return num3\n",
    "\n",
    "# Taking user input for three numbers\n",
    "num1 = float(input(\"Enter the first number: \"))\n",
    "num2 = float(input(\"Enter the second number: \"))\n",
    "num3 = float(input(\"Enter the third number: \"))\n",
    "\n",
    "# Finding the largest number\n",
    "largest = find_largest(num1, num2, num3)\n",
    "\n",
    "# Displaying the result\n",
    "print(f\"The largest number among {num1}, {num2}, and {num3} is {largest}.\")\n"
   ]
  },
  {
   "cell_type": "code",
   "execution_count": 10,
   "id": "58285eea-85ad-4872-9c21-dfc52120dccb",
   "metadata": {
    "tags": []
   },
   "outputs": [
    {
     "name": "stdout",
     "output_type": "stream",
     "text": [
      "\n",
      "=== ATM Transaction Menu ===\n",
      "1. Check Balance\n",
      "2. Deposit Money\n",
      "3. Withdraw Money\n",
      "4. Exit\n"
     ]
    },
    {
     "name": "stdin",
     "output_type": "stream",
     "text": [
      "Enter your choice (1-4):  3\n",
      "Enter the amount to withdraw: $ 50\n"
     ]
    },
    {
     "name": "stdout",
     "output_type": "stream",
     "text": [
      "\n",
      "Withdrawn $50.0. Updated Balance: $950.0\n",
      "\n",
      "=== ATM Transaction Menu ===\n",
      "1. Check Balance\n",
      "2. Deposit Money\n",
      "3. Withdraw Money\n",
      "4. Exit\n"
     ]
    },
    {
     "name": "stdin",
     "output_type": "stream",
     "text": [
      "Enter your choice (1-4):  4\n"
     ]
    },
    {
     "name": "stdout",
     "output_type": "stream",
     "text": [
      "Thank you for using the ATM. Have a great day!\n"
     ]
    }
   ],
   "source": [
    "#15Create a program that simulates a basic ATM transaction menu.\n",
    "class ATM:\n",
    "    def __init__(self, balance=1000):\n",
    "        self.balance = balance\n",
    "\n",
    "    def display_menu(self):\n",
    "        print(\"\\n=== ATM Transaction Menu ===\")\n",
    "        print(\"1. Check Balance\")\n",
    "        print(\"2. Deposit Money\")\n",
    "        print(\"3. Withdraw Money\")\n",
    "        print(\"4. Exit\")\n",
    "\n",
    "    def check_balance(self):\n",
    "        print(f\"\\nCurrent Balance: ${self.balance}\")\n",
    "\n",
    "    def deposit_money(self, amount):\n",
    "        self.balance += amount\n",
    "        print(f\"\\nDeposited ${amount}. Updated Balance: ${self.balance}\")\n",
    "\n",
    "    def withdraw_money(self, amount):\n",
    "        if amount <= self.balance:\n",
    "            self.balance -= amount\n",
    "            print(f\"\\nWithdrawn ${amount}. Updated Balance: ${self.balance}\")\n",
    "        else:\n",
    "            print(\"\\nInsufficient funds. Withdrawal failed.\")\n",
    "\n",
    "# Creating an instance of the ATM class\n",
    "atm = ATM()\n",
    "\n",
    "# ATM transaction loop\n",
    "while True:\n",
    "    # Displaying the menu\n",
    "    atm.display_menu()\n",
    "\n",
    "    # Taking user input for menu choice\n",
    "    choice = input(\"Enter your choice (1-4): \")\n",
    "\n",
    "    if choice == '1':\n",
    "        # Check Balance\n",
    "        atm.check_balance()\n",
    "    elif choice == '2':\n",
    "        # Deposit Money\n",
    "        amount = float(input(\"Enter the amount to deposit: $\"))\n",
    "        atm.deposit_money(amount)\n",
    "    elif choice == '3':\n",
    "        # Withdraw Money\n",
    "        amount = float(input(\"Enter the amount to withdraw: $\"))\n",
    "        atm.withdraw_money(amount)\n",
    "    elif choice == '4':\n",
    "        # Exit\n",
    "        print(\"Thank you for using the ATM. Have a great day!\")\n",
    "        break\n",
    "    else:\n",
    "        print(\"Invalid choice. Please enter a number between 1 and 4.\")\n"
   ]
  },
  {
   "cell_type": "code",
   "execution_count": 11,
   "id": "6d410f3e-c204-4e51-b5ca-598af1a6d840",
   "metadata": {
    "tags": []
   },
   "outputs": [
    {
     "name": "stdin",
     "output_type": "stream",
     "text": [
      "Enter a string:  alia\n"
     ]
    },
    {
     "name": "stdout",
     "output_type": "stream",
     "text": [
      "alia is not a palindrome.\n"
     ]
    }
   ],
   "source": [
    "#16Build a program that checks if a given string is a palindrome or not.\n",
    "def is_palindrome(s):\n",
    "    # Removing spaces and converting to lowercase for case-insensitive comparison\n",
    "    s = s.replace(\" \", \"\").lower()\n",
    "\n",
    "    # Comparing the string with its reverse\n",
    "    return s == s[::-1]\n",
    "\n",
    "# Taking user input for the string\n",
    "user_input = input(\"Enter a string: \")\n",
    "\n",
    "# Checking if the string is a palindrome\n",
    "if is_palindrome(user_input):\n",
    "    print(f\"{user_input} is a palindrome.\")\n",
    "else:\n",
    "    print(f\"{user_input} is not a palindrome.\")\n"
   ]
  },
  {
   "cell_type": "code",
   "execution_count": 13,
   "id": "3e1a0d3d-8f16-4d36-95a1-507ab2629cde",
   "metadata": {
    "tags": []
   },
   "outputs": [
    {
     "name": "stdin",
     "output_type": "stream",
     "text": [
      "Enter a list of numbers separated by spaces:  5 6 8 9 2\n"
     ]
    },
    {
     "name": "stdout",
     "output_type": "stream",
     "text": [
      "The average (excluding smallest and largest values) is: 6.333333333333333\n"
     ]
    }
   ],
   "source": [
    "#17Write a program that calculates the average of a list of numbers, excluding the smallest and largest values.\n",
    "def calculate_average(numbers):\n",
    "    # Check if the list has at least two elements\n",
    "    if len(numbers) < 3:\n",
    "        return \"Insufficient elements to calculate average (need at least three).\"\n",
    "\n",
    "    # Exclude the smallest and largest values\n",
    "    sorted_numbers = sorted(numbers)\n",
    "    excluded_numbers = sorted_numbers[1:-1]\n",
    "\n",
    "    # Calculate the average of the remaining values\n",
    "    average = sum(excluded_numbers) / len(excluded_numbers)\n",
    "    return average\n",
    "\n",
    "# Taking user input for a list of numbers\n",
    "user_input = input(\"Enter a list of numbers separated by spaces: \")\n",
    "numbers = [float(num) for num in user_input.split()]\n",
    "\n",
    "# Calculating the average excluding the smallest and largest values\n",
    "result = calculate_average(numbers)\n",
    "\n",
    "# Displaying the result\n",
    "if isinstance(result, str):\n",
    "    print(result)\n",
    "else:\n",
    "    print(f\"The average (excluding smallest and largest values) is: {result}\")\n"
   ]
  },
  {
   "cell_type": "code",
   "execution_count": 14,
   "id": "91d15326-377a-4efe-83ea-7493e7c0d88f",
   "metadata": {
    "tags": []
   },
   "outputs": [
    {
     "name": "stdin",
     "output_type": "stream",
     "text": [
      "Enter temperature in Celsius:  26\n"
     ]
    },
    {
     "name": "stdout",
     "output_type": "stream",
     "text": [
      "26.0 degrees Celsius is equal to 78.80 degrees Fahrenheit.\n"
     ]
    }
   ],
   "source": [
    "#18Develop a program that converts a given temperature from Celsius to Fahrenheit.\n",
    "def celsius_to_fahrenheit(celsius):\n",
    "    # Formula for Celsius to Fahrenheit conversion: F = (C * 9/5) + 32\n",
    "    fahrenheit = (celsius * 9/5) + 32\n",
    "    return fahrenheit\n",
    "\n",
    "# Taking user input for temperature in Celsius\n",
    "celsius_temperature = float(input(\"Enter temperature in Celsius: \"))\n",
    "\n",
    "# Converting Celsius to Fahrenheit\n",
    "fahrenheit_temperature = celsius_to_fahrenheit(celsius_temperature)\n",
    "\n",
    "# Displaying the result\n",
    "print(f\"{celsius_temperature} degrees Celsius is equal to {fahrenheit_temperature:.2f} degrees Fahrenheit.\")\n",
    "\n"
   ]
  },
  {
   "cell_type": "code",
   "execution_count": 15,
   "id": "bd50a575-77e3-42fa-ab09-5f3f46748777",
   "metadata": {
    "tags": []
   },
   "outputs": [
    {
     "name": "stdout",
     "output_type": "stream",
     "text": [
      "=== Basic Calculator ===\n",
      "1. Addition\n",
      "2. Subtraction\n",
      "3. Multiplication\n",
      "4. Division\n"
     ]
    },
    {
     "name": "stdin",
     "output_type": "stream",
     "text": [
      "Enter your choice (1-4):  1\n",
      "Enter the first number:  45\n",
      "Enter the second number:  55\n"
     ]
    },
    {
     "name": "stdout",
     "output_type": "stream",
     "text": [
      "\n",
      "Result of Addition: 100.0\n"
     ]
    }
   ],
   "source": [
    "#19 Create a program that simulates a basic calculator for addition, subtraction, multiplication, and division.\n",
    "def add(x, y):\n",
    "    return x + y\n",
    "\n",
    "def subtract(x, y):\n",
    "    return x - y\n",
    "\n",
    "def multiply(x, y):\n",
    "    return x * y\n",
    "\n",
    "def divide(x, y):\n",
    "    if y != 0:\n",
    "        return x / y\n",
    "    else:\n",
    "        return \"Cannot divide by zero.\"\n",
    "\n",
    "# Displaying the calculator menu\n",
    "print(\"=== Basic Calculator ===\")\n",
    "print(\"1. Addition\")\n",
    "print(\"2. Subtraction\")\n",
    "print(\"3. Multiplication\")\n",
    "print(\"4. Division\")\n",
    "\n",
    "# Taking user input for operation choice\n",
    "choice = input(\"Enter your choice (1-4): \")\n",
    "\n",
    "# Taking user input for numbers\n",
    "num1 = float(input(\"Enter the first number: \"))\n",
    "num2 = float(input(\"Enter the second number: \"))\n",
    "\n",
    "# Performing the selected operation\n",
    "if choice == '1':\n",
    "    result = add(num1, num2)\n",
    "    operation = \"Addition\"\n",
    "elif choice == '2':\n",
    "    result = subtract(num1, num2)\n",
    "    operation = \"Subtraction\"\n",
    "elif choice == '3':\n",
    "    result = multiply(num1, num2)\n",
    "    operation = \"Multiplication\"\n",
    "elif choice == '4':\n",
    "    result = divide(num1, num2)\n",
    "    operation = \"Division\"\n",
    "else:\n",
    "    result = \"Invalid choice. Please enter a number between 1 and 4.\"\n",
    "    operation = \"\"\n",
    "\n",
    "# Displaying the result\n",
    "if operation:\n",
    "    print(f\"\\nResult of {operation}: {result}\")\n",
    "else:\n",
    "    print(result)\n"
   ]
  },
  {
   "cell_type": "code",
   "execution_count": 16,
   "id": "3435b0ac-84fa-4466-8465-2f550215868d",
   "metadata": {
    "tags": []
   },
   "outputs": [
    {
     "name": "stdin",
     "output_type": "stream",
     "text": [
      "Enter the coefficient a:  2\n",
      "Enter the coefficient b:  3\n",
      "Enter the coefficient c:  4\n",
      "Enter the coefficient d:  5\n"
     ]
    },
    {
     "name": "stdout",
     "output_type": "stream",
     "text": [
      "The roots of the cubic equation are: ((-1.3940565611522153-1.322674643071874j), (-1.3717119909195148+1.3363536749292155j), (0.7464142508073597-0.01420735423253651j))\n"
     ]
    }
   ],
   "source": [
    "#20Write a program that determines the roots of a cubic equation using the Cardano formula.\n",
    "import cmath  # Importing the complex math module for handling complex roots\n",
    "\n",
    "def cubic_roots(a, b, c, d):\n",
    "    # Calculate discriminant and cube root factor\n",
    "    delta = 18 * a * b * c * d - 4 * b**3 * d + b**2 * c**2 - 4 * a * c**3 - 27 * a**2 * d**2\n",
    "    cube_root_factor = (delta + cmath.sqrt(delta)) / 2\n",
    "\n",
    "    # Calculate intermediate values\n",
    "    C = cube_root_factor ** (1 / 3)\n",
    "    u1 = 1\n",
    "    u2 = (-1 - cmath.sqrt(3) * 1j) / 2\n",
    "    u3 = (-1 + cmath.sqrt(3) * 1j) / 2\n",
    "\n",
    "    # Calculate roots using Cardano formula\n",
    "    root1 = -1 / (3 * a) * (b + u1 * C + (u1 * C) / (b + u1 * C))\n",
    "    root2 = -1 / (3 * a) * (b + u2 * C + (u2 * C) / (b + u2 * C))\n",
    "    root3 = -1 / (3 * a) * (b + u3 * C + (u3 * C) / (b + u3 * C))\n",
    "\n",
    "    return root1, root2, root3\n",
    "\n",
    "# Taking user input for coefficients\n",
    "a = float(input(\"Enter the coefficient a: \"))\n",
    "b = float(input(\"Enter the coefficient b: \"))\n",
    "c = float(input(\"Enter the coefficient c: \"))\n",
    "d = float(input(\"Enter the coefficient d: \"))\n",
    "\n",
    "# Calculating roots using the Cardano formula\n",
    "roots = cubic_roots(a, b, c, d)\n",
    "\n",
    "# Displaying the roots\n",
    "print(f\"The roots of the cubic equation are: {roots}\")\n"
   ]
  },
  {
   "cell_type": "code",
   "execution_count": 18,
   "id": "aca7a46c-0917-4003-96ae-7aed7b429dcc",
   "metadata": {
    "tags": []
   },
   "outputs": [
    {
     "name": "stdin",
     "output_type": "stream",
     "text": [
      "Enter your income: $ 55\n"
     ]
    },
    {
     "name": "stdout",
     "output_type": "stream",
     "text": [
      "Error: Invalid tax brackets and rates configuration.\n"
     ]
    }
   ],
   "source": [
    "#Advanced level\n",
    "#21Create a program that calculates the income tax based on the user's income and tax brackets.\n",
    "def calculate_income_tax(income):\n",
    "    # Define tax brackets and rates\n",
    "    brackets = [0, 10000, 40000, 80000]  # Example brackets in dollars\n",
    "    rates = [0.1, 0.2, 0.3, 0.4]         # Example tax rates\n",
    "\n",
    "    # Ensure brackets and rates have the same length\n",
    "    if len(brackets) != len(rates) + 1:\n",
    "        return \"Error: Invalid tax brackets and rates configuration.\"\n",
    "\n",
    "    # Calculate tax based on income and brackets\n",
    "    tax = 0\n",
    "    for i in range(len(rates)):\n",
    "        if income > brackets[i + 1]:\n",
    "            tax += (brackets[i + 1] - brackets[i]) * rates[i]\n",
    "        else:\n",
    "            tax += (income - brackets[i]) * rates[i]\n",
    "            break\n",
    "\n",
    "    return tax\n",
    "\n",
    "# Taking user input for income\n",
    "income = float(input(\"Enter your income: $\"))\n",
    "\n",
    "# Calculating income tax\n",
    "income_tax = calculate_income_tax(income)\n",
    "\n",
    "# Displaying the result\n",
    "if isinstance(income_tax, str):\n",
    "    print(income_tax)\n",
    "else:\n",
    "    print(f\"Your income tax is: ${income_tax:.2f}\")\n",
    "\n"
   ]
  },
  {
   "cell_type": "code",
   "execution_count": 19,
   "id": "aaf38ea9-7dce-418a-8b8b-c7dca8679ec4",
   "metadata": {
    "tags": []
   },
   "outputs": [
    {
     "name": "stdout",
     "output_type": "stream",
     "text": [
      "Rock, Paper, Scissors!\n"
     ]
    },
    {
     "name": "stdin",
     "output_type": "stream",
     "text": [
      "Enter your choice (rock/paper/scissors):  rock\n"
     ]
    },
    {
     "name": "stdout",
     "output_type": "stream",
     "text": [
      "\n",
      "You chose rock.\n",
      "The computer chose rock.\n",
      "\n",
      "It's a tie!\n"
     ]
    },
    {
     "name": "stdin",
     "output_type": "stream",
     "text": [
      "Do you want to play again? (yes/no):  no\n"
     ]
    },
    {
     "name": "stdout",
     "output_type": "stream",
     "text": [
      "Thanks for playing. Goodbye!\n"
     ]
    }
   ],
   "source": [
    "#22Write a program that simulates a rock-paper-scissors game against the computer.\n",
    "import random\n",
    "\n",
    "def get_user_choice():\n",
    "    print(\"Rock, Paper, Scissors!\")\n",
    "    return input(\"Enter your choice (rock/paper/scissors): \").lower()\n",
    "\n",
    "def get_computer_choice():\n",
    "    choices = ['rock', 'paper', 'scissors']\n",
    "    return random.choice(choices)\n",
    "\n",
    "def determine_winner(user_choice, computer_choice):\n",
    "    print(f\"\\nYou chose {user_choice}.\")\n",
    "    print(f\"The computer chose {computer_choice}.\\n\")\n",
    "\n",
    "    if user_choice == computer_choice:\n",
    "        return \"It's a tie!\"\n",
    "    elif (\n",
    "        (user_choice == 'rock' and computer_choice == 'scissors') or\n",
    "        (user_choice == 'paper' and computer_choice == 'rock') or\n",
    "        (user_choice == 'scissors' and computer_choice == 'paper')\n",
    "    ):\n",
    "        return \"You win!\"\n",
    "    else:\n",
    "        return \"You lose!\"\n",
    "\n",
    "# Main game loop\n",
    "while True:\n",
    "    user_choice = get_user_choice()\n",
    "    computer_choice = get_computer_choice()\n",
    "\n",
    "    result = determine_winner(user_choice, computer_choice)\n",
    "    print(result)\n",
    "\n",
    "    play_again = input(\"Do you want to play again? (yes/no): \").lower()\n",
    "    if play_again != 'yes':\n",
    "        print(\"Thanks for playing. Goodbye!\")\n",
    "        break\n"
   ]
  },
  {
   "cell_type": "code",
   "execution_count": 20,
   "id": "e5189383-3fb7-42a6-b0f1-ba5eb225919d",
   "metadata": {
    "tags": []
   },
   "outputs": [
    {
     "name": "stdin",
     "output_type": "stream",
     "text": [
      "Enter the desired password length:  8\n",
      "Include uppercase letters? (yes/no):  no\n",
      "Include digits? (yes/no):  yes\n",
      "Include special characters? (yes/no):  yes\n"
     ]
    },
    {
     "name": "stdout",
     "output_type": "stream",
     "text": [
      "\n",
      "Generated Password: 1d6**@-1\n"
     ]
    }
   ],
   "source": [
    "#23. Develop a program that generates a random password based on user preferences (length, complexity).\n",
    "import random\n",
    "import string\n",
    "\n",
    "def generate_password(length, include_uppercase, include_digits, include_special_chars):\n",
    "    characters = string.ascii_lowercase\n",
    "\n",
    "    if include_uppercase:\n",
    "        characters += string.ascii_uppercase\n",
    "    if include_digits:\n",
    "        characters += string.digits\n",
    "    if include_special_chars:\n",
    "        characters += string.punctuation\n",
    "\n",
    "    if length < 1 or not characters:\n",
    "        return \"Invalid parameters for password generation.\"\n",
    "\n",
    "    password = ''.join(random.choice(characters) for _ in range(length))\n",
    "    return password\n",
    "\n",
    "# Taking user preferences for password generation\n",
    "length = int(input(\"Enter the desired password length: \"))\n",
    "include_uppercase = input(\"Include uppercase letters? (yes/no): \").lower() == 'yes'\n",
    "include_digits = input(\"Include digits? (yes/no): \").lower() == 'yes'\n",
    "include_special_chars = input(\"Include special characters? (yes/no): \").lower() == 'yes'\n",
    "\n",
    "# Generating the password\n",
    "password = generate_password(length, include_uppercase, include_digits, include_special_chars)\n",
    "\n",
    "# Displaying the generated password\n",
    "print(f\"\\nGenerated Password: {password}\")\n"
   ]
  },
  {
   "cell_type": "code",
   "execution_count": 21,
   "id": "1490cc6a-75b1-4417-b06b-f37b16b5d958",
   "metadata": {
    "tags": []
   },
   "outputs": [
    {
     "name": "stdout",
     "output_type": "stream",
     "text": [
      "Welcome to the Text Adventure Game!\n",
      "\n",
      "Choose an option:\n",
      "1. Enter the dark cave.\n",
      "2. Follow the path through the forest.\n",
      "3. Approach the mysterious door.\n",
      "4. Quit\n"
     ]
    },
    {
     "name": "stdin",
     "output_type": "stream",
     "text": [
      "Enter your choice (1-4):  1\n"
     ]
    },
    {
     "name": "stdout",
     "output_type": "stream",
     "text": [
      "\n",
      "You enter the dark cave...\n",
      "You see a shimmering light at the end of the tunnel.\n",
      "\n",
      "What do you do?\n",
      "1. Approach the light.\n",
      "2. Retreat from the cave.\n"
     ]
    },
    {
     "name": "stdin",
     "output_type": "stream",
     "text": [
      "Enter your choice (1-2):  1\n"
     ]
    },
    {
     "name": "stdout",
     "output_type": "stream",
     "text": [
      "\n",
      "Congratulations! You found a treasure chest!\n",
      "\n",
      "Choose an option:\n",
      "1. Enter the dark cave.\n",
      "2. Follow the path through the forest.\n",
      "3. Approach the mysterious door.\n",
      "4. Quit\n"
     ]
    },
    {
     "name": "stdin",
     "output_type": "stream",
     "text": [
      "Enter your choice (1-4):  4\n"
     ]
    },
    {
     "name": "stdout",
     "output_type": "stream",
     "text": [
      "Thanks for playing. Goodbye!\n"
     ]
    }
   ],
   "source": [
    "#24Create a program that implements a simple text-based adventure game with branching scenarios.\n",
    "def start_game():\n",
    "    print(\"Welcome to the Text Adventure Game!\")\n",
    "\n",
    "    while True:\n",
    "        print(\"\\nChoose an option:\")\n",
    "        print(\"1. Enter the dark cave.\")\n",
    "        print(\"2. Follow the path through the forest.\")\n",
    "        print(\"3. Approach the mysterious door.\")\n",
    "        print(\"4. Quit\")\n",
    "\n",
    "        choice = input(\"Enter your choice (1-4): \")\n",
    "\n",
    "        if choice == '1':\n",
    "            explore_cave()\n",
    "        elif choice == '2':\n",
    "            follow_path()\n",
    "        elif choice == '3':\n",
    "            approach_door()\n",
    "        elif choice == '4':\n",
    "            print(\"Thanks for playing. Goodbye!\")\n",
    "            break\n",
    "        else:\n",
    "            print(\"Invalid choice. Please enter a number between 1 and 4.\")\n",
    "\n",
    "def explore_cave():\n",
    "    print(\"\\nYou enter the dark cave...\")\n",
    "    print(\"You see a shimmering light at the end of the tunnel.\")\n",
    "    \n",
    "    while True:\n",
    "        print(\"\\nWhat do you do?\")\n",
    "        print(\"1. Approach the light.\")\n",
    "        print(\"2. Retreat from the cave.\")\n",
    "\n",
    "        choice = input(\"Enter your choice (1-2): \")\n",
    "\n",
    "        if choice == '1':\n",
    "            print(\"\\nCongratulations! You found a treasure chest!\")\n",
    "            break\n",
    "        elif choice == '2':\n",
    "            print(\"\\nYou decide to retreat from the cave.\")\n",
    "            break\n",
    "        else:\n",
    "            print(\"Invalid choice. Please enter 1 or 2.\")\n",
    "\n",
    "def follow_path():\n",
    "    print(\"\\nYou follow the path through the forest...\")\n",
    "    print(\"You encounter a group of friendly woodland creatures.\")\n",
    "\n",
    "    while True:\n",
    "        print(\"\\nWhat do you do?\")\n",
    "        print(\"1. Interact with the creatures.\")\n",
    "        print(\"2. Continue along the path.\")\n",
    "\n",
    "        choice = input(\"Enter your choice (1-2): \")\n",
    "\n",
    "        if choice == '1':\n",
    "            print(\"\\nThe creatures share their magical powers with you!\")\n",
    "            break\n",
    "        elif choice == '2':\n",
    "            print(\"\\nYou continue along the path, leaving the creatures behind.\")\n",
    "            break\n",
    "        else:\n",
    "            print(\"Invalid choice. Please enter 1 or 2.\")\n",
    "\n",
    "def approach_door():\n",
    "    print(\"\\nYou approach the mysterious door...\")\n",
    "    print(\"It's locked, but there's a key hidden nearby.\")\n",
    "\n",
    "    while True:\n",
    "        print(\"\\nWhat do you do?\")\n",
    "        print(\"1. Search for the hidden key.\")\n",
    "        print(\"2. Leave and explore elsewhere.\")\n",
    "\n",
    "        choice = input(\"Enter your choice (1-2): \")\n",
    "\n",
    "        if choice == '1':\n",
    "            print(\"\\nCongratulations! You found the hidden key!\")\n",
    "            print(\"You unlock the door and discover a magical realm.\")\n",
    "            break\n",
    "        elif choice == '2':\n",
    "            print(\"\\nYou decide to leave and explore elsewhere.\")\n",
    "            break\n",
    "        else:\n",
    "            print(\"Invalid choice. Please enter 1 or 2.\")\n",
    "\n",
    "# Start the game\n",
    "start_game()\n"
   ]
  },
  {
   "cell_type": "code",
   "execution_count": 23,
   "id": "5ddd6e56-3316-442f-b81a-beabac0a905b",
   "metadata": {
    "tags": []
   },
   "outputs": [
    {
     "name": "stdin",
     "output_type": "stream",
     "text": [
      "Enter the coefficient a:  2\n",
      "Enter the coefficient b:  3\n"
     ]
    },
    {
     "name": "stdout",
     "output_type": "stream",
     "text": [
      "The solution for the linear equation 2.0x + 3.0 = 0 is x = -1.5.\n"
     ]
    }
   ],
   "source": [
    "#25Build a program that solves a linear equation for x, considering different cases.\n",
    "def solve_linear_equation(a, b):\n",
    "    # Case 1: If 'a' is zero, the equation has no solution or infinite solutions\n",
    "    if a == 0:\n",
    "        if b == 0:\n",
    "            return \"Infinite solutions (0 = 0).\"\n",
    "        else:\n",
    "            return \"No solution (constant term is not zero).\"\n",
    "    else:\n",
    "        # Case 2: If 'a' is not zero, calculate the solution for 'x'\n",
    "        x = -b / a\n",
    "        return f\"The solution for the linear equation {a}x + {b} = 0 is x = {x}.\"\n",
    "\n",
    "# Taking user input for coefficients\n",
    "a = float(input(\"Enter the coefficient a: \"))\n",
    "b = float(input(\"Enter the coefficient b: \"))\n",
    "\n",
    "# Solving the linear equation\n",
    "solution = solve_linear_equation(a, b)\n",
    "\n",
    "# Displaying the result\n",
    "print(solution)\n"
   ]
  },
  {
   "cell_type": "code",
   "execution_count": 25,
   "id": "07d46d3d-3aa9-4c27-81c9-b0ee34a7ec96",
   "metadata": {
    "tags": []
   },
   "outputs": [
    {
     "name": "stdout",
     "output_type": "stream",
     "text": [
      "\n",
      "What is the capital of France?\n",
      "1. Paris\n",
      "2. Berlin\n",
      "3. London\n",
      "4. Madrid\n"
     ]
    },
    {
     "name": "stdin",
     "output_type": "stream",
     "text": [
      "Enter your choice (1-4):  1\n"
     ]
    },
    {
     "name": "stdout",
     "output_type": "stream",
     "text": [
      "Correct! You earned 1 point.\n",
      "\n",
      "Which planet is known as the Red Planet?\n",
      "1. Earth\n",
      "2. Mars\n",
      "3. Venus\n",
      "4. Jupiter\n"
     ]
    },
    {
     "name": "stdin",
     "output_type": "stream",
     "text": [
      "Enter your choice (1-4):  2\n"
     ]
    },
    {
     "name": "stdout",
     "output_type": "stream",
     "text": [
      "Correct! You earned 1 point.\n",
      "\n",
      "What is the largest mammal on Earth?\n",
      "1. Elephant\n",
      "2. Blue Whale\n",
      "3. Giraffe\n",
      "4. Dolphin\n"
     ]
    },
    {
     "name": "stdin",
     "output_type": "stream",
     "text": [
      "Enter your choice (1-4):  2\n"
     ]
    },
    {
     "name": "stdout",
     "output_type": "stream",
     "text": [
      "Correct! You earned 1 point.\n",
      "\n",
      "Quiz completed! Your final score is: 3/3\n"
     ]
    }
   ],
   "source": [
    "#26Write a program that simulates a basic quiz game with multiple-choice questions and scoring.\n",
    "class Quiz:\n",
    "    def __init__(self, questions):\n",
    "        self.questions = questions\n",
    "        self.score = 0\n",
    "\n",
    "    def display_question(self, question):\n",
    "        print(f\"\\n{question['text']}\")\n",
    "        for i, option in enumerate(question['options'], start=1):\n",
    "            print(f\"{i}. {option}\")\n",
    "\n",
    "    def get_user_answer(self):\n",
    "        while True:\n",
    "            try:\n",
    "                choice = int(input(\"Enter your choice (1-4): \"))\n",
    "                if 1 <= choice <= 4:\n",
    "                    return choice\n",
    "                else:\n",
    "                    print(\"Invalid choice. Please enter a number between 1 and 4.\")\n",
    "            except ValueError:\n",
    "                print(\"Invalid input. Please enter a number.\")\n",
    "\n",
    "    def play_quiz(self):\n",
    "        for question in self.questions:\n",
    "            self.display_question(question)\n",
    "            user_answer = self.get_user_answer()\n",
    "\n",
    "            if user_answer == question['correct_answer']:\n",
    "                print(\"Correct! You earned 1 point.\")\n",
    "                self.score += 1\n",
    "            else:\n",
    "                print(f\"Wrong! The correct answer is {question['options'][question['correct_answer'] - 1]}.\")\n",
    "\n",
    "        print(f\"\\nQuiz completed! Your final score is: {self.score}/{len(self.questions)}\")\n",
    "\n",
    "# Sample quiz questions\n",
    "quiz_questions = [\n",
    "    {\n",
    "        'text': 'What is the capital of France?',\n",
    "        'options': ['Paris', 'Berlin', 'London', 'Madrid'],\n",
    "        'correct_answer': 1\n",
    "    },\n",
    "    {\n",
    "        'text': 'Which planet is known as the Red Planet?',\n",
    "        'options': ['Earth', 'Mars', 'Venus', 'Jupiter'],\n",
    "        'correct_answer': 2\n",
    "    },\n",
    "    {\n",
    "        'text': 'What is the largest mammal on Earth?',\n",
    "        'options': ['Elephant', 'Blue Whale', 'Giraffe', 'Dolphin'],\n",
    "        'correct_answer': 2\n",
    "    }\n",
    "]\n",
    "\n",
    "# Create a Quiz instance and play the quiz\n",
    "quiz_game = Quiz(quiz_questions)\n",
    "quiz_game.play_quiz()\n"
   ]
  },
  {
   "cell_type": "code",
   "execution_count": 26,
   "id": "f6eb960b-8f6a-4a82-bf89-f711abbc4af9",
   "metadata": {
    "tags": []
   },
   "outputs": [
    {
     "name": "stdin",
     "output_type": "stream",
     "text": [
      "Enter a year:  2024\n"
     ]
    },
    {
     "name": "stdout",
     "output_type": "stream",
     "text": [
      "2024 is not a prime number.\n"
     ]
    }
   ],
   "source": [
    "#27Develop a program that determines whether a given year is a prime number or not.\n",
    "def is_prime(year):\n",
    "    if year < 2:\n",
    "        return False\n",
    "\n",
    "    for i in range(2, int(year**0.5) + 1):\n",
    "        if year % i == 0:\n",
    "            return False\n",
    "\n",
    "    return True\n",
    "\n",
    "# Taking user input for the year\n",
    "year = int(input(\"Enter a year: \"))\n",
    "\n",
    "# Checking if the year is a prime number\n",
    "if is_prime(year):\n",
    "    print(f\"{year} is a prime number.\")\n",
    "else:\n",
    "    print(f\"{year} is not a prime number.\")\n"
   ]
  },
  {
   "cell_type": "code",
   "execution_count": 27,
   "id": "8377a926-0e80-4d7d-9499-918c6cc54d90",
   "metadata": {
    "tags": []
   },
   "outputs": [
    {
     "name": "stdin",
     "output_type": "stream",
     "text": [
      "Enter the first number:  23\n",
      "Enter the second number:  33\n",
      "Enter the third number:  54\n"
     ]
    },
    {
     "name": "stdout",
     "output_type": "stream",
     "text": [
      "The numbers in ascending order are: (23.0, 33.0, 54.0)\n"
     ]
    }
   ],
   "source": [
    "#28 Create a program that sorts three numbers in ascending order using conditional statements.\n",
    "# Taking user input for three numbers\n",
    "num1 = float(input(\"Enter the first number: \"))\n",
    "num2 = float(input(\"Enter the second number: \"))\n",
    "num3 = float(input(\"Enter the third number: \"))\n",
    "\n",
    "# Sorting the numbers in ascending order using conditional statements\n",
    "if num1 <= num2 <= num3:\n",
    "    sorted_nums = (num1, num2, num3)\n",
    "elif num1 <= num3 <= num2:\n",
    "    sorted_nums = (num1, num3, num2)\n",
    "elif num2 <= num1 <= num3:\n",
    "    sorted_nums = (num2, num1, num3)\n",
    "elif num2 <= num3 <= num1:\n",
    "    sorted_nums = (num2, num3, num1)\n",
    "elif num3 <= num1 <= num2:\n",
    "    sorted_nums = (num3, num1, num2)\n",
    "else:\n",
    "    sorted_nums = (num3, num2, num1)\n",
    "\n",
    "# Displaying the sorted numbers\n",
    "print(f\"The numbers in ascending order are: {sorted_nums}\")\n"
   ]
  },
  {
   "cell_type": "code",
   "execution_count": 28,
   "id": "8bf92acc-0ad1-4a68-b151-071038ac5c7e",
   "metadata": {
    "tags": []
   },
   "outputs": [
    {
     "name": "stdin",
     "output_type": "stream",
     "text": [
      "Enter the coefficient a:  2\n",
      "Enter the coefficient b:  3\n",
      "Enter the coefficient c:  4\n",
      "Enter the coefficient d:  5\n",
      "Enter the coefficient e:  6\n",
      "Enter an initial guess for the root:  2\n"
     ]
    },
    {
     "name": "stdout",
     "output_type": "stream",
     "text": [
      "Maximum number of iterations reached. Newton's method may not have converged.\n",
      "Unable to find a root with Newton's method.\n"
     ]
    }
   ],
   "source": [
    "#29Build a program that determines the roots of a quartic equation using numerical methods.\n",
    "def quartic_equation(x, a, b, c, d, e):\n",
    "    return a * x**4 + b * x**3 + c * x**2 + d * x + e\n",
    "\n",
    "def quartic_derivative(x, a, b, c, d):\n",
    "    return 4 * a * x**3 + 3 * b * x**2 + 2 * c * x + d\n",
    "\n",
    "def newton_method(initial_guess, a, b, c, d, e, tolerance=1e-6, max_iterations=100):\n",
    "    x = initial_guess\n",
    "\n",
    "    for iteration in range(max_iterations):\n",
    "        f_x = quartic_equation(x, a, b, c, d, e)\n",
    "        f_prime_x = quartic_derivative(x, a, b, c, d)\n",
    "\n",
    "        if abs(f_prime_x) < tolerance:\n",
    "            print(\"Derivative too small. Newton's method failed.\")\n",
    "            return None\n",
    "\n",
    "        x = x - f_x / f_prime_x\n",
    "\n",
    "        if abs(f_x) < tolerance:\n",
    "            return x\n",
    "\n",
    "    print(\"Maximum number of iterations reached. Newton's method may not have converged.\")\n",
    "    return None\n",
    "\n",
    "# Taking user input for coefficients\n",
    "a = float(input(\"Enter the coefficient a: \"))\n",
    "b = float(input(\"Enter the coefficient b: \"))\n",
    "c = float(input(\"Enter the coefficient c: \"))\n",
    "d = float(input(\"Enter the coefficient d: \"))\n",
    "e = float(input(\"Enter the coefficient e: \"))\n",
    "\n",
    "# Providing an initial guess for Newton's method\n",
    "initial_guess = float(input(\"Enter an initial guess for the root: \"))\n",
    "\n",
    "# Applying Newton's method to find a root\n",
    "root = newton_method(initial_guess, a, b, c, d, e)\n",
    "\n",
    "# Displaying the result\n",
    "if root is not None:\n",
    "    print(f\"\\nThe root found by Newton's method is approximately: {root:.6f}\")\n",
    "else:\n",
    "    print(\"Unable to find a root with Newton's method.\")\n"
   ]
  },
  {
   "cell_type": "code",
   "execution_count": 30,
   "id": "91309f2c-86de-4f22-a6e4-377c31e66d23",
   "metadata": {
    "tags": []
   },
   "outputs": [
    {
     "name": "stdin",
     "output_type": "stream",
     "text": [
      "Enter your weight in kilograms:  80\n",
      "Enter your height in meters:  187\n"
     ]
    },
    {
     "name": "stdout",
     "output_type": "stream",
     "text": [
      "\n",
      "Your BMI is: 0.00\n",
      "Underweight: You may need to gain some weight. Consult with a healthcare professional.\n"
     ]
    }
   ],
   "source": [
    "#30Write a program that calculates the BMI (Body Mass Index) and provides health recommendations based\n",
    "#on the user's input.\n",
    "def calculate_bmi(weight, height):\n",
    "    # BMI formula: weight (kg) / (height (m))^2\n",
    "    return weight / (height ** 2)\n",
    "\n",
    "def get_health_recommendation(bmi):\n",
    "    if bmi < 18.5:\n",
    "        return \"Underweight: You may need to gain some weight. Consult with a healthcare professional.\"\n",
    "    elif 18.5 <= bmi < 25:\n",
    "        return \"Normal weight: Keep maintaining a healthy lifestyle!\"\n",
    "    elif 25 <= bmi < 30:\n",
    "        return \"Overweight: Consider losing some weight for better health. Consult with a healthcare professional.\"\n",
    "    else:\n",
    "        return \"Obese: It's recommended to consult with a healthcare professional for weight management and lifestyle changes.\"\n",
    "\n",
    "# Taking user input for weight (in kilograms) and height (in meters)\n",
    "weight = float(input(\"Enter your weight in kilograms: \"))\n",
    "height = float(input(\"Enter your height in meters: \"))\n",
    "\n",
    "# Calculating BMI\n",
    "bmi = calculate_bmi(weight, height)\n",
    "\n",
    "# Displaying BMI and health recommendation\n",
    "print(f\"\\nYour BMI is: {bmi:.2f}\")\n",
    "recommendation = get_health_recommendation(bmi)\n",
    "print(recommendation)\n",
    "\n"
   ]
  },
  {
   "cell_type": "code",
   "execution_count": 32,
   "id": "0d0252c2-038a-4d33-894f-94092a597a72",
   "metadata": {
    "tags": []
   },
   "outputs": [
    {
     "name": "stdin",
     "output_type": "stream",
     "text": [
      "Enter your password:  life\n"
     ]
    },
    {
     "name": "stdout",
     "output_type": "stream",
     "text": [
      "Password is not valid. Please ensure it meets the complexity rules.\n"
     ]
    }
   ],
   "source": [
    "#Challenge level'\n",
    "#31 Create a program that validates a password based on complexity rules (length, characters, etc.).\n",
    "import re\n",
    "\n",
    "def is_valid_password(password):\n",
    "    # Check if the password meets complexity rules\n",
    "    if len(password) < 8:\n",
    "        return False\n",
    "\n",
    "    if not re.search(r'[a-z]', password):\n",
    "        return False\n",
    "\n",
    "    if not re.search(r'[A-Z]', password):\n",
    "        return False\n",
    "\n",
    "    if not re.search(r'[0-9]', password):\n",
    "        return False\n",
    "\n",
    "    if not re.search(r'[!@#$%^&*(),.?\":{}|<>]', password):\n",
    "        return False\n",
    "\n",
    "    return True\n",
    "\n",
    "# Taking user input for password\n",
    "password = input(\"Enter your password: \")\n",
    "\n",
    "# Validating the password\n",
    "if is_valid_password(password):\n",
    "    print(\"Password is valid.\")\n",
    "else:\n",
    "    print(\"Password is not valid. Please ensure it meets the complexity rules.\")\n"
   ]
  },
  {
   "cell_type": "code",
   "execution_count": 35,
   "id": "e52148d0-be8a-47ad-8541-2f4c6ddc4353",
   "metadata": {
    "tags": []
   },
   "outputs": [
    {
     "name": "stdin",
     "output_type": "stream",
     "text": [
      "Enter the number of rows for the matrices:  2\n",
      "Enter the number of columns for the matrices:  2\n"
     ]
    },
    {
     "name": "stdout",
     "output_type": "stream",
     "text": [
      "\n",
      "Enter elements for Matrix 1:\n"
     ]
    },
    {
     "name": "stdin",
     "output_type": "stream",
     "text": [
      "Enter element 1 for row 1:  1\n",
      "Enter element 2 for row 1:  2\n",
      "Enter element 1 for row 2:  3\n",
      "Enter element 2 for row 2:  4\n"
     ]
    },
    {
     "name": "stdout",
     "output_type": "stream",
     "text": [
      "\n",
      "Enter elements for Matrix 2:\n"
     ]
    },
    {
     "name": "stdin",
     "output_type": "stream",
     "text": [
      "Enter element 1 for row 1:  5\n",
      "Enter element 2 for row 1:  7\n",
      "Enter element 1 for row 2:  9\n",
      "Enter element 2 for row 2:  8\n"
     ]
    },
    {
     "name": "stdout",
     "output_type": "stream",
     "text": [
      "\n",
      "Matrix 1:\n",
      "[1.0, 2.0]\n",
      "[3.0, 4.0]\n",
      "\n",
      "Matrix 2:\n",
      "[5.0, 7.0]\n",
      "[9.0, 8.0]\n",
      "\n",
      "Sum of Matrices:\n",
      "[6.0, 9.0]\n",
      "[12.0, 12.0]\n",
      "\n",
      "Difference of Matrices:\n",
      "[-4.0, -5.0]\n",
      "[-6.0, -4.0]\n"
     ]
    }
   ],
   "source": [
    "#32Develop a program that performs matrix addition and subtraction based on user input.\n",
    "def add_matrices(matrix1, matrix2):\n",
    "    if len(matrix1) != len(matrix2) or len(matrix1[0]) != len(matrix2[0]):\n",
    "        return None  # Matrices must have the same dimensions for addition\n",
    "\n",
    "    result = [[0 for _ in range(len(matrix1[0]))] for _ in range(len(matrix1))]\n",
    "    \n",
    "    for i in range(len(matrix1)):\n",
    "        for j in range(len(matrix1[0])):\n",
    "            result[i][j] = matrix1[i][j] + matrix2[i][j]\n",
    "\n",
    "    return result\n",
    "\n",
    "def subtract_matrices(matrix1, matrix2):\n",
    "    if len(matrix1) != len(matrix2) or len(matrix1[0]) != len(matrix2[0]):\n",
    "        return None  # Matrices must have the same dimensions for subtraction\n",
    "\n",
    "    result = [[0 for _ in range(len(matrix1[0]))] for _ in range(len(matrix1))]\n",
    "    \n",
    "    for i in range(len(matrix1)):\n",
    "        for j in range(len(matrix1[0])):\n",
    "            result[i][j] = matrix1[i][j] - matrix2[i][j]\n",
    "\n",
    "    return result\n",
    "\n",
    "def display_matrix(matrix, label):\n",
    "    print(f\"\\n{label}:\")\n",
    "    for row in matrix:\n",
    "        print(row)\n",
    "\n",
    "# Taking user input for matrix dimensions and elements\n",
    "rows = int(input(\"Enter the number of rows for the matrices: \"))\n",
    "columns = int(input(\"Enter the number of columns for the matrices: \"))\n",
    "\n",
    "matrix1 = []\n",
    "matrix2 = []\n",
    "\n",
    "print(\"\\nEnter elements for Matrix 1:\")\n",
    "for i in range(rows):\n",
    "    row = [float(input(f\"Enter element {j+1} for row {i+1}: \")) for j in range(columns)]\n",
    "    matrix1.append(row)\n",
    "\n",
    "print(\"\\nEnter elements for Matrix 2:\")\n",
    "for i in range(rows):\n",
    "    row = [float(input(f\"Enter element {j+1} for row {i+1}: \")) for j in range(columns)]\n",
    "    matrix2.append(row)\n",
    "\n",
    "# Performing matrix addition and subtraction\n",
    "sum_matrix = add_matrices(matrix1, matrix2)\n",
    "difference_matrix = subtract_matrices(matrix1, matrix2)\n",
    "\n",
    "# Displaying the matrices and results\n",
    "display_matrix(matrix1, \"Matrix 1\")\n",
    "display_matrix(matrix2, \"Matrix 2\")\n",
    "\n",
    "if sum_matrix:\n",
    "    display_matrix(sum_matrix, \"Sum of Matrices\")\n",
    "else:\n",
    "    print(\"\\nMatrix addition not possible. Matrices must have the same dimensions.\")\n",
    "\n",
    "if difference_matrix:\n",
    "    display_matrix(difference_matrix, \"Difference of Matrices\")\n",
    "else:\n",
    "    print(\"\\nMatrix subtraction not possible. Matrices must have the same dimensions.\")\n"
   ]
  },
  {
   "cell_type": "code",
   "execution_count": 36,
   "id": "e39395a0-c122-4c50-badc-eec0ddc11e07",
   "metadata": {
    "tags": []
   },
   "outputs": [
    {
     "name": "stdin",
     "output_type": "stream",
     "text": [
      "Enter the first number:  20\n",
      "Enter the second number:  40\n"
     ]
    },
    {
     "name": "stdout",
     "output_type": "stream",
     "text": [
      "The GCD of 20 and 40 is: 20\n"
     ]
    }
   ],
   "source": [
    "#33 Write a program that calculates the greatest common divisor (GCD) of two numbers using the Euclidean\n",
    "#algorithm.\n",
    "def euclidean_gcd(a, b):\n",
    "    while b:\n",
    "        a, b = b, a % b\n",
    "    return abs(a)\n",
    "\n",
    "# Taking user input for two numbers\n",
    "num1 = int(input(\"Enter the first number: \"))\n",
    "num2 = int(input(\"Enter the second number: \"))\n",
    "\n",
    "# Calculating the GCD using the Euclidean algorithm\n",
    "gcd = euclidean_gcd(num1, num2)\n",
    "\n",
    "# Displaying the result\n",
    "print(f\"The GCD of {num1} and {num2} is: {gcd}\")\n",
    "\n"
   ]
  },
  {
   "cell_type": "code",
   "execution_count": 1,
   "id": "efba17e3-cf90-46f2-a8e1-0dee2ab99168",
   "metadata": {},
   "outputs": [
    {
     "name": "stdin",
     "output_type": "stream",
     "text": [
      "Enter the number of rows for Matrix 1:  2\n",
      "Enter the number of columns for Matrix 1:  2\n",
      "Enter element 1 for row 1 of Matrix 1:  1\n",
      "Enter element 2 for row 1 of Matrix 1:  2\n",
      "Enter element 1 for row 2 of Matrix 1:  1\n",
      "Enter element 2 for row 2 of Matrix 1:  2\n",
      "Enter the number of rows for Matrix 2:  1\n",
      "Enter the number of columns for Matrix 2:  2\n",
      "Enter element 1 for row 1 of Matrix 2:  1\n",
      "Enter element 2 for row 1 of Matrix 2:  2\n"
     ]
    },
    {
     "name": "stdout",
     "output_type": "stream",
     "text": [
      "\n",
      "Matrix 1:\n",
      "[1.0, 2.0]\n",
      "[1.0, 2.0]\n",
      "\n",
      "Matrix 2:\n",
      "[1.0, 2.0]\n",
      "\n",
      "Matrix multiplication not possible. Number of columns in Matrix 1 must be equal to the number of rows in Matrix 2.\n"
     ]
    }
   ],
   "source": [
    "#34 Build a program that performs matrix multiplication using nested loops and conditional statements.\n",
    "def matrix_multiply(matrix1, matrix2):\n",
    "    rows1, columns1 = len(matrix1), len(matrix1[0])\n",
    "    rows2, columns2 = len(matrix2), len(matrix2[0])\n",
    "\n",
    "    if columns1 != rows2:\n",
    "        return None  # Matrix multiplication is not possible\n",
    "\n",
    "    result = [[0 for _ in range(columns2)] for _ in range(rows1)]\n",
    "\n",
    "    for i in range(rows1):\n",
    "        for j in range(columns2):\n",
    "            for k in range(columns1):\n",
    "                result[i][j] += matrix1[i][k] * matrix2[k][j]\n",
    "\n",
    "    return result\n",
    "\n",
    "def display_matrix(matrix, label):\n",
    "    print(f\"\\n{label}:\")\n",
    "    for row in matrix:\n",
    "        print(row)\n",
    "\n",
    "# Taking user input for matrix dimensions and elements\n",
    "rows1 = int(input(\"Enter the number of rows for Matrix 1: \"))\n",
    "columns1 = int(input(\"Enter the number of columns for Matrix 1: \"))\n",
    "\n",
    "matrix1 = []\n",
    "for i in range(rows1):\n",
    "    row = [float(input(f\"Enter element {j+1} for row {i+1} of Matrix 1: \")) for j in range(columns1)]\n",
    "    matrix1.append(row)\n",
    "\n",
    "rows2 = int(input(\"Enter the number of rows for Matrix 2: \"))\n",
    "columns2 = int(input(\"Enter the number of columns for Matrix 2: \"))\n",
    "\n",
    "matrix2 = []\n",
    "for i in range(rows2):\n",
    "    row = [float(input(f\"Enter element {j+1} for row {i+1} of Matrix 2: \")) for j in range(columns2)]\n",
    "    matrix2.append(row)\n",
    "\n",
    "# Performing matrix multiplication\n",
    "product_matrix = matrix_multiply(matrix1, matrix2)\n",
    "\n",
    "# Displaying the matrices and result\n",
    "display_matrix(matrix1, \"Matrix 1\")\n",
    "display_matrix(matrix2, \"Matrix 2\")\n",
    "\n",
    "if product_matrix:\n",
    "    display_matrix(product_matrix, \"Product of Matrices\")\n",
    "else:\n",
    "    print(\"\\nMatrix multiplication not possible. Number of columns in Matrix 1 must be equal to the number of rows in Matrix 2.\")\n"
   ]
  },
  {
   "cell_type": "code",
   "execution_count": 2,
   "id": "61e44bb8-292e-47ff-aca5-52cc911a50c7",
   "metadata": {
    "tags": []
   },
   "outputs": [
    {
     "name": "stdout",
     "output_type": "stream",
     "text": [
      "Welcome to Tic-Tac-Toe!\n",
      "  |   |  \n",
      "---------\n",
      "  |   |  \n",
      "---------\n",
      "  |   |  \n",
      "---------\n",
      "Computer is making a move...\n",
      "  |   |  \n",
      "---------\n",
      "O |   |  \n",
      "---------\n",
      "  |   |  \n",
      "---------\n"
     ]
    },
    {
     "name": "stdin",
     "output_type": "stream",
     "text": [
      "Enter the row (1-3):  1\n",
      "Enter the column (1-3):  2\n"
     ]
    },
    {
     "name": "stdout",
     "output_type": "stream",
     "text": [
      "  | X |  \n",
      "---------\n",
      "O |   |  \n",
      "---------\n",
      "  |   |  \n",
      "---------\n",
      "Computer is making a move...\n",
      "  | X |  \n",
      "---------\n",
      "O |   |  \n",
      "---------\n",
      "O |   |  \n",
      "---------\n"
     ]
    },
    {
     "name": "stdin",
     "output_type": "stream",
     "text": [
      "Enter the row (1-3):  1\n",
      "Enter the column (1-3):  2\n"
     ]
    },
    {
     "name": "stdout",
     "output_type": "stream",
     "text": [
      "Invalid move. Try again.\n"
     ]
    },
    {
     "name": "stdin",
     "output_type": "stream",
     "text": [
      "Enter the row (1-3):  1\n",
      "Enter the column (1-3):  2\n"
     ]
    },
    {
     "name": "stdout",
     "output_type": "stream",
     "text": [
      "Invalid move. Try again.\n"
     ]
    },
    {
     "name": "stdin",
     "output_type": "stream",
     "text": [
      "Enter the row (1-3):  1\n",
      "Enter the column (1-3):  2\n"
     ]
    },
    {
     "name": "stdout",
     "output_type": "stream",
     "text": [
      "Invalid move. Try again.\n"
     ]
    },
    {
     "name": "stdin",
     "output_type": "stream",
     "text": [
      "Enter the row (1-3):  1\n",
      "Enter the column (1-3):  2\n"
     ]
    },
    {
     "name": "stdout",
     "output_type": "stream",
     "text": [
      "Invalid move. Try again.\n"
     ]
    },
    {
     "name": "stdin",
     "output_type": "stream",
     "text": [
      "Enter the row (1-3):  1\n",
      "Enter the column (1-3):  2\n"
     ]
    },
    {
     "name": "stdout",
     "output_type": "stream",
     "text": [
      "Invalid move. Try again.\n"
     ]
    },
    {
     "name": "stdin",
     "output_type": "stream",
     "text": [
      "Enter the row (1-3):  1\n",
      "Enter the column (1-3):  2\n"
     ]
    },
    {
     "name": "stdout",
     "output_type": "stream",
     "text": [
      "Invalid move. Try again.\n"
     ]
    },
    {
     "name": "stdin",
     "output_type": "stream",
     "text": [
      "Enter the row (1-3):  1\n",
      "Enter the column (1-3):  2\n"
     ]
    },
    {
     "name": "stdout",
     "output_type": "stream",
     "text": [
      "Invalid move. Try again.\n"
     ]
    },
    {
     "name": "stdin",
     "output_type": "stream",
     "text": [
      "Enter the row (1-3):  1\n",
      "Enter the column (1-3):  2\n"
     ]
    },
    {
     "name": "stdout",
     "output_type": "stream",
     "text": [
      "Invalid move. Try again.\n"
     ]
    },
    {
     "name": "stdin",
     "output_type": "stream",
     "text": [
      "Enter the row (1-3):  1\n",
      "Enter the column (1-3):  2\n"
     ]
    },
    {
     "name": "stdout",
     "output_type": "stream",
     "text": [
      "Invalid move. Try again.\n"
     ]
    },
    {
     "name": "stdin",
     "output_type": "stream",
     "text": [
      "Enter the row (1-3):  x\n"
     ]
    },
    {
     "name": "stdout",
     "output_type": "stream",
     "text": [
      "Invalid input. Enter a number.\n"
     ]
    },
    {
     "name": "stdin",
     "output_type": "stream",
     "text": [
      "Enter the row (1-3):  2\n",
      "Enter the column (1-3):  1\n"
     ]
    },
    {
     "name": "stdout",
     "output_type": "stream",
     "text": [
      "Invalid move. Try again.\n"
     ]
    },
    {
     "name": "stdin",
     "output_type": "stream",
     "text": [
      "Enter the row (1-3):  3\n",
      "Enter the column (1-3):  1\n"
     ]
    },
    {
     "name": "stdout",
     "output_type": "stream",
     "text": [
      "Invalid move. Try again.\n"
     ]
    },
    {
     "name": "stdin",
     "output_type": "stream",
     "text": [
      "Enter the row (1-3):  3\n",
      "Enter the column (1-3):  3\n"
     ]
    },
    {
     "name": "stdout",
     "output_type": "stream",
     "text": [
      "  | X |  \n",
      "---------\n",
      "O |   |  \n",
      "---------\n",
      "O |   | X\n",
      "---------\n",
      "Computer is making a move...\n",
      "  | X |  \n",
      "---------\n",
      "O |   | O\n",
      "---------\n",
      "O |   | X\n",
      "---------\n"
     ]
    },
    {
     "name": "stdin",
     "output_type": "stream",
     "text": [
      "Enter the row (1-3):  2\n",
      "Enter the column (1-3):  2\n"
     ]
    },
    {
     "name": "stdout",
     "output_type": "stream",
     "text": [
      "  | X |  \n",
      "---------\n",
      "O | X | O\n",
      "---------\n",
      "O |   | X\n",
      "---------\n",
      "Computer is making a move...\n",
      "  | X |  \n",
      "---------\n",
      "O | X | O\n",
      "---------\n",
      "O | O | X\n",
      "---------\n"
     ]
    },
    {
     "name": "stdin",
     "output_type": "stream",
     "text": [
      "Enter the row (1-3):  1\n",
      "Enter the column (1-3):  1\n"
     ]
    },
    {
     "name": "stdout",
     "output_type": "stream",
     "text": [
      "X | X |  \n",
      "---------\n",
      "O | X | O\n",
      "---------\n",
      "O | O | X\n",
      "---------\n",
      "X wins! Congratulations!\n"
     ]
    }
   ],
   "source": [
    "#35 Create a program that simulates a basic text-based tic-tac-toe game against the computer.\n",
    "import random\n",
    "\n",
    "def print_board(board):\n",
    "    for row in board:\n",
    "        print(\" | \".join(row))\n",
    "        print(\"-\" * 9)\n",
    "\n",
    "def is_winner(board, player):\n",
    "    # Check rows, columns, and diagonals for a win\n",
    "    for i in range(3):\n",
    "        if all(cell == player for cell in board[i]) or all(board[j][i] == player for j in range(3)):\n",
    "            return True\n",
    "\n",
    "    if all(board[i][i] == player for i in range(3)) or all(board[i][2 - i] == player for i in range(3)):\n",
    "        return True\n",
    "\n",
    "    return False\n",
    "\n",
    "def is_board_full(board):\n",
    "    return all(all(cell != ' ' for cell in row) for row in board)\n",
    "\n",
    "def get_empty_cells(board):\n",
    "    return [(i, j) for i in range(3) for j in range(3) if board[i][j] == ' ']\n",
    "\n",
    "def player_move(board):\n",
    "    while True:\n",
    "        try:\n",
    "            row = int(input(\"Enter the row (1-3): \")) - 1\n",
    "            col = int(input(\"Enter the column (1-3): \")) - 1\n",
    "\n",
    "            if 0 <= row < 3 and 0 <= col < 3 and board[row][col] == ' ':\n",
    "                return row, col\n",
    "            else:\n",
    "                print(\"Invalid move. Try again.\")\n",
    "        except ValueError:\n",
    "            print(\"Invalid input. Enter a number.\")\n",
    "\n",
    "def computer_move(board):\n",
    "    empty_cells = get_empty_cells(board)\n",
    "    return random.choice(empty_cells)\n",
    "\n",
    "def play_tic_tac_toe():\n",
    "    board = [[' ' for _ in range(3)] for _ in range(3)]\n",
    "    players = ['X', 'O']\n",
    "    current_player = random.choice(players)\n",
    "\n",
    "    print(\"Welcome to Tic-Tac-Toe!\")\n",
    "    print_board(board)\n",
    "\n",
    "    while True:\n",
    "        if current_player == 'X':\n",
    "            row, col = player_move(board)\n",
    "        else:\n",
    "            print(\"Computer is making a move...\")\n",
    "            row, col = computer_move(board)\n",
    "\n",
    "        board[row][col] = current_player\n",
    "        print_board(board)\n",
    "\n",
    "        if is_winner(board, current_player):\n",
    "            print(f\"{current_player} wins! Congratulations!\")\n",
    "            break\n",
    "        elif is_board_full(board):\n",
    "            print(\"It's a tie! The board is full.\")\n",
    "            break\n",
    "\n",
    "        current_player = 'O' if current_player == 'X' else 'X'\n",
    "\n",
    "if __name__ == \"__main__\":\n",
    "    play_tic_tac_toe()\n"
   ]
  },
  {
   "cell_type": "code",
   "execution_count": 3,
   "id": "dc6fd9c8-b845-42da-8e6c-bce4c68ce800",
   "metadata": {
    "tags": []
   },
   "outputs": [
    {
     "name": "stdin",
     "output_type": "stream",
     "text": [
      "Enter the number of Fibonacci terms to generate:  3\n"
     ]
    },
    {
     "name": "stdout",
     "output_type": "stream",
     "text": [
      "\n",
      "The first 3 Fibonacci numbers are: [0, 1, 1]\n"
     ]
    }
   ],
   "source": [
    "#36. Write a program that generates Fibonacci numbers up to a specified term using iterative methods.\n",
    "def generate_fibonacci(n):\n",
    "    fibonacci_sequence = [0, 1]\n",
    "\n",
    "    while len(fibonacci_sequence) < n:\n",
    "        next_term = fibonacci_sequence[-1] + fibonacci_sequence[-2]\n",
    "        fibonacci_sequence.append(next_term)\n",
    "\n",
    "    return fibonacci_sequence[:n]\n",
    "\n",
    "# Taking user input for the number of terms in the Fibonacci sequence\n",
    "num_terms = int(input(\"Enter the number of Fibonacci terms to generate: \"))\n",
    "\n",
    "# Generating Fibonacci numbers\n",
    "fibonacci_numbers = generate_fibonacci(num_terms)\n",
    "\n",
    "# Displaying the result\n",
    "print(f\"\\nThe first {num_terms} Fibonacci numbers are: {fibonacci_numbers}\")\n"
   ]
  },
  {
   "cell_type": "code",
   "execution_count": 6,
   "id": "a4868003-d036-4916-9ba6-96d3aaa8271c",
   "metadata": {
    "tags": []
   },
   "outputs": [
    {
     "name": "stdin",
     "output_type": "stream",
     "text": [
      "Enter the term number in the Fibonacci sequence:  4\n"
     ]
    },
    {
     "name": "stdout",
     "output_type": "stream",
     "text": [
      "The 4th term in the Fibonacci sequence is: 3\n"
     ]
    }
   ],
   "source": [
    "#37Develop a program that calculates the nth term of the Fibonacci sequence using memoization.\n",
    "def fibonacci_with_memoization(n, memo={}):\n",
    "    if n <= 1:\n",
    "        return n\n",
    "\n",
    "    if n not in memo:\n",
    "        memo[n] = fibonacci_with_memoization(n - 1, memo) + fibonacci_with_memoization(n - 2, memo)\n",
    "\n",
    "    return memo[n]\n",
    "\n",
    "# Taking user input for the desired term in the Fibonacci sequence\n",
    "term_number = int(input(\"Enter the term number in the Fibonacci sequence: \"))\n",
    "\n",
    "# Calculating the nth term using memoization\n",
    "result = fibonacci_with_memoization(term_number)\n",
    "\n",
    "# Displaying the result\n",
    "print(f\"The {term_number}th term in the Fibonacci sequence is: {result}\")\n"
   ]
  },
  {
   "cell_type": "code",
   "execution_count": 7,
   "id": "cb76e0f7-8d09-42b3-a9ab-21414dda2165",
   "metadata": {
    "tags": []
   },
   "outputs": [
    {
     "name": "stdin",
     "output_type": "stream",
     "text": [
      "Enter the year:  2024\n",
      "Enter the month (1-12):  4\n"
     ]
    },
    {
     "name": "stdout",
     "output_type": "stream",
     "text": [
      "\n",
      "     April 2024     \n",
      "Mo Tu We Th Fr Sa Su\n",
      " 1  2  3  4  5  6  7 \n",
      " 8  9 10 11 12 13 14 \n",
      "15 16 17 18 19 20 21 \n",
      "22 23 24 25 26 27 28 \n",
      "29 30                \n"
     ]
    }
   ],
   "source": [
    "#38 Create a program that generates a calendar for a given month and year using conditional statements.\n",
    "import calendar\n",
    "\n",
    "def generate_calendar(year, month):\n",
    "    cal = calendar.monthcalendar(year, month)\n",
    "    header = calendar.month_name[month] + \" \" + str(year)\n",
    "    \n",
    "    print(f\"\\n{header.center(20)}\")\n",
    "    print(\"Mo Tu We Th Fr Sa Su\")\n",
    "\n",
    "    for week in cal:\n",
    "        for day in week:\n",
    "            if day == 0:\n",
    "                print(\"   \", end=\"\")\n",
    "            else:\n",
    "                print(f\"{day:2} \", end=\"\")\n",
    "        print()\n",
    "\n",
    "# Taking user input for the year and month\n",
    "year = int(input(\"Enter the year: \"))\n",
    "month = int(input(\"Enter the month (1-12): \"))\n",
    "\n",
    "# Generating and displaying the calendar\n",
    "generate_calendar(year, month)\n",
    "\n"
   ]
  },
  {
   "cell_type": "code",
   "execution_count": 8,
   "id": "fdfa1c1a-36e6-4b8b-8805-e99c56ca4d79",
   "metadata": {
    "tags": []
   },
   "outputs": [
    {
     "name": "stdout",
     "output_type": "stream",
     "text": [
      "Your cards: [10, 10], current score: 20\n",
      "Computer's first card: 4\n"
     ]
    },
    {
     "name": "stdin",
     "output_type": "stream",
     "text": [
      "Type 'y' to get another card, 'n' to pass:  y\n"
     ]
    },
    {
     "name": "stdout",
     "output_type": "stream",
     "text": [
      "Your cards: [10, 10, 10], current score: 30\n",
      "Computer's first card: 4\n",
      "\n",
      "Your final hand: [10, 10, 10], final score: 30\n",
      "Computer's final hand: [4, 9, 1, 2, 8], final score: 24\n",
      "You went over 21. You lose!\n"
     ]
    }
   ],
   "source": [
    "#39 Build a program that simulates a basic text-based blackjack game against the computer.\n",
    "import random\n",
    "\n",
    "def deal_card():\n",
    "    cards = [2, 3, 4, 5, 6, 7, 8, 9, 10, 10, 10, 10, 11]\n",
    "    return random.choice(cards)\n",
    "\n",
    "def calculate_score(cards):\n",
    "    if sum(cards) == 21 and len(cards) == 2:\n",
    "        return 0  # Blackjack\n",
    "    if 11 in cards and sum(cards) > 21:\n",
    "        cards.remove(11)\n",
    "        cards.append(1)\n",
    "    return sum(cards)\n",
    "\n",
    "def compare(user_score, computer_score):\n",
    "    if user_score == computer_score:\n",
    "        return \"It's a draw!\"\n",
    "    elif computer_score == 0:\n",
    "        return \"Computer has Blackjack. You lose!\"\n",
    "    elif user_score == 0:\n",
    "        return \"Blackjack! You win!\"\n",
    "    elif user_score > 21:\n",
    "        return \"You went over 21. You lose!\"\n",
    "    elif computer_score > 21:\n",
    "        return \"Computer went over 21. You win!\"\n",
    "    elif user_score > computer_score:\n",
    "        return \"You win!\"\n",
    "    else:\n",
    "        return \"You lose!\"\n",
    "\n",
    "def play_blackjack():\n",
    "    user_cards = []\n",
    "    computer_cards = []\n",
    "    is_game_over = False\n",
    "\n",
    "    for _ in range(2):\n",
    "        user_cards.append(deal_card())\n",
    "        computer_cards.append(deal_card())\n",
    "\n",
    "    while not is_game_over:\n",
    "        user_score = calculate_score(user_cards)\n",
    "        computer_score = calculate_score(computer_cards)\n",
    "\n",
    "        print(f\"Your cards: {user_cards}, current score: {user_score}\")\n",
    "        print(f\"Computer's first card: {computer_cards[0]}\")\n",
    "\n",
    "        if user_score == 0 or computer_score == 0 or user_score > 21:\n",
    "            is_game_over = True\n",
    "        else:\n",
    "            another_card = input(\"Type 'y' to get another card, 'n' to pass: \").lower()\n",
    "            if another_card == 'y':\n",
    "                user_cards.append(deal_card())\n",
    "            else:\n",
    "                is_game_over = True\n",
    "\n",
    "    while computer_score != 0 and computer_score < 17:\n",
    "        computer_cards.append(deal_card())\n",
    "        computer_score = calculate_score(computer_cards)\n",
    "\n",
    "    print(f\"\\nYour final hand: {user_cards}, final score: {user_score}\")\n",
    "    print(f\"Computer's final hand: {computer_cards}, final score: {computer_score}\")\n",
    "    print(compare(user_score, computer_score))\n",
    "\n",
    "if __name__ == \"__main__\":\n",
    "    play_blackjack()\n"
   ]
  },
  {
   "cell_type": "code",
   "execution_count": 9,
   "id": "112974b8-d87d-4aa6-bd8e-4c0af04cdf6d",
   "metadata": {
    "tags": []
   },
   "outputs": [
    {
     "name": "stdin",
     "output_type": "stream",
     "text": [
      "Enter a number to find its prime factors:  2\n"
     ]
    },
    {
     "name": "stdout",
     "output_type": "stream",
     "text": [
      "The prime factors of 2 are: [2]\n"
     ]
    }
   ],
   "source": [
    "#40 Write a program that generates the prime factors of a given number using trial division.\n",
    "def generate_prime_factors(number):\n",
    "    prime_factors = []\n",
    "    divisor = 2\n",
    "\n",
    "    while divisor <= number:\n",
    "        if number % divisor == 0:\n",
    "            prime_factors.append(divisor)\n",
    "            number = number // divisor\n",
    "        else:\n",
    "            divisor += 1\n",
    "\n",
    "    return prime_factors\n",
    "\n",
    "# Taking user input for the number\n",
    "number = int(input(\"Enter a number to find its prime factors: \"))\n",
    "\n",
    "# Generating and displaying the prime factors\n",
    "prime_factors = generate_prime_factors(number)\n",
    "print(f\"The prime factors of {number} are: {prime_factors}\")\n"
   ]
  }
 ],
 "metadata": {
  "kernelspec": {
   "display_name": "Python 3 (ipykernel)",
   "language": "python",
   "name": "python3"
  },
  "language_info": {
   "codemirror_mode": {
    "name": "ipython",
    "version": 3
   },
   "file_extension": ".py",
   "mimetype": "text/x-python",
   "name": "python",
   "nbconvert_exporter": "python",
   "pygments_lexer": "ipython3",
   "version": "3.11.5"
  }
 },
 "nbformat": 4,
 "nbformat_minor": 5
}
